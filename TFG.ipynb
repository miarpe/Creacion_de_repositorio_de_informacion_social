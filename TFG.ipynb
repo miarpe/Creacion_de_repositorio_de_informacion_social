{
  "nbformat": 4,
  "nbformat_minor": 0,
  "metadata": {
    "colab": {
      "name": "TFG.ipynb",
      "provenance": [],
      "toc_visible": true,
      "authorship_tag": "ABX9TyNRoyMluV0og3mCh79GeZbS",
      "include_colab_link": true
    },
    "kernelspec": {
      "name": "python3",
      "display_name": "Python 3"
    }
  },
  "cells": [
    {
      "cell_type": "markdown",
      "metadata": {
        "id": "view-in-github",
        "colab_type": "text"
      },
      "source": [
        "<a href=\"https://colab.research.google.com/github/miarpe/TFG/blob/main/TFG.ipynb\" target=\"_parent\"><img src=\"https://colab.research.google.com/assets/colab-badge.svg\" alt=\"Open In Colab\"/></a>"
      ]
    },
    {
      "cell_type": "markdown",
      "metadata": {
        "id": "cVz_HO0rfSiP"
      },
      "source": [
        "#TFG"
      ]
    },
    {
      "cell_type": "markdown",
      "metadata": {
        "id": "LNegYKaLfXqn"
      },
      "source": [
        "##Web Scraping"
      ]
    },
    {
      "cell_type": "code",
      "metadata": {
        "colab": {
          "base_uri": "https://localhost:8080/"
        },
        "id": "mfjmBVC4lDfq",
        "outputId": "fd5260ed-fcd0-4c87-99b3-67b8268c8dc6"
      },
      "source": [
        "!pip install requests\r\n",
        "\r\n"
      ],
      "execution_count": 1,
      "outputs": [
        {
          "output_type": "stream",
          "text": [
            "Requirement already satisfied: requests in /usr/local/lib/python3.6/dist-packages (2.23.0)\n",
            "Requirement already satisfied: certifi>=2017.4.17 in /usr/local/lib/python3.6/dist-packages (from requests) (2020.12.5)\n",
            "Requirement already satisfied: urllib3!=1.25.0,!=1.25.1,<1.26,>=1.21.1 in /usr/local/lib/python3.6/dist-packages (from requests) (1.24.3)\n",
            "Requirement already satisfied: idna<3,>=2.5 in /usr/local/lib/python3.6/dist-packages (from requests) (2.10)\n",
            "Requirement already satisfied: chardet<4,>=3.0.2 in /usr/local/lib/python3.6/dist-packages (from requests) (3.0.4)\n"
          ],
          "name": "stdout"
        }
      ]
    },
    {
      "cell_type": "code",
      "metadata": {
        "colab": {
          "base_uri": "https://localhost:8080/"
        },
        "id": "__t9nff3pJHn",
        "outputId": "12f92af6-138b-45eb-e665-959f2bec4705"
      },
      "source": [
        "!pip install beautifulsoup4"
      ],
      "execution_count": 2,
      "outputs": [
        {
          "output_type": "stream",
          "text": [
            "Requirement already satisfied: beautifulsoup4 in /usr/local/lib/python3.6/dist-packages (4.6.3)\n"
          ],
          "name": "stdout"
        }
      ]
    },
    {
      "cell_type": "code",
      "metadata": {
        "id": "qHB8ufmKpPuR"
      },
      "source": [
        "import numpy as np\r\n",
        "import pandas as pd\r\n",
        "import requests\r\n",
        "import bs4\r\n",
        "import lxml.etree as xml"
      ],
      "execution_count": 3,
      "outputs": []
    },
    {
      "cell_type": "code",
      "metadata": {
        "colab": {
          "base_uri": "https://localhost:8080/"
        },
        "id": "Pj5gftnRpTFs",
        "outputId": "5cb8e392-1d41-43d6-cedb-b2adb761a3bd"
      },
      "source": [
        "URL = \"https://www.cidob.org/biografias_lideres_politicos/europa/moldova/maia_sandu\"\r\n",
        "\r\n",
        "requests.get(URL)"
      ],
      "execution_count": 20,
      "outputs": [
        {
          "output_type": "execute_result",
          "data": {
            "text/plain": [
              "<Response [200]>"
            ]
          },
          "metadata": {
            "tags": []
          },
          "execution_count": 20
        }
      ]
    },
    {
      "cell_type": "code",
      "metadata": {
        "colab": {
          "base_uri": "https://localhost:8080/"
        },
        "id": "vCuqVVpqpmSi",
        "outputId": "9989de98-789a-4c43-8a59-3fa7b17c1bde"
      },
      "source": [
        "web_page = bs4.BeautifulSoup(requests.get(URL, {}).text, \"lxml\")\r\n",
        "web_page"
      ],
      "execution_count": 21,
      "outputs": [
        {
          "output_type": "execute_result",
          "data": {
            "text/plain": [
              "<!DOCTYPE html>\n",
              "<!--[if lt IE 7]> <html class=\"no-js lt-ie9 lt-ie8 lt-ie7\"> <![endif]--><!--[if IE 7]> <html class=\"no-js lt-ie9 lt-ie8\"> <![endif]--><!--[if IE 8]> <html class=\"no-js lt-ie9\"> <![endif]--><!--[if gt IE 8]><!--><html class=\"no-js\">\n",
              "<!--<![endif]-->\n",
              "<head>\n",
              "<link href=\"/dass-2019041701/css/367ce15.css\" rel=\"stylesheet\" type=\"text/css\"/>\n",
              "<link href=\"//maxcdn.bootstrapcdn.com/font-awesome/4.2.0/css/font-awesome.min.css\" rel=\"stylesheet\"/>\n",
              "<link href=\"/dass-2019041701/css/f431f76.css\" media=\"screen\" rel=\"stylesheet\" type=\"text/css\"/>\n",
              "<link href=\"/dass-2019041701/bundles/cidob/css/print.css\" media=\"print\" rel=\"stylesheet\" type=\"text/css\"/>\n",
              "<link href=\"/dass-2019041701/bundles/cidob/css/main.css\" media=\"screen\" rel=\"stylesheet\" type=\"text/css\"/>\n",
              "<style type=\"text/css\">\n",
              "    @import url(\"/dass-2019041701/extension/ezwt/design/standard/stylesheets/websitetoolbar.css\");\n",
              "</style> <script src=\"/dass-2019041701/js/8f49737.js\" type=\"text/javascript\"></script>\n",
              "<script type=\"text/javascript\">window.q=[];window.$=function(f){q.push(f);};</script> <meta content=\"width=device-width, initial-scale=1.0\" name=\"viewport\"/>\n",
              "<meta charset=\"utf-8\"/>\n",
              "<meta content=\"IE=edge,chrome=1\" http-equiv=\"X-UA-Compatible\"/>\n",
              "<title>CIDOB - CIDOB</title>\n",
              "<meta content=\"CIDOB Barcelona Centre for International Affairs\" name=\"description\"/>\n",
              "<!-- Schema.org markup for Google+ -->\n",
              "<meta content=\"CIDOB - CIDOB\" itemprop=\"name\"/>\n",
              "<meta content=\"CIDOB Barcelona Centre for International Affairs\" itemprop=\"description\"/>\n",
              "<meta content=\"http://www.cidob.org/dass-2019041701/var/plain/storage/images/new_site/biografias_lideres_politicos/europa/moldova/maia_sandu/2358537-14-esl-ES/maia_sandu.jpg\" itemprop=\"image\"/>\n",
              "<!-- Twitter Card data -->\n",
              "<meta content=\"summary\" name=\"twitter:card\"/>\n",
              "<meta content=\"@CidobBarcelona\" name=\"twitter:site\"/>\n",
              "<meta content=\"@CidobBarcelona\" name=\"twitter:creator\"/>\n",
              "<!-- Open Graph data -->\n",
              "<meta content=\"http://www.cidob.org/biografias_lideres_politicos/europa/moldova/maia_sandu\" property=\"og:url\"/>\n",
              "<meta content=\"CIDOB - CIDOB\" property=\"og:title\"/>\n",
              "<meta content=\"CIDOB Barcelona Centre for International Affairs\" property=\"og:description\"/>\n",
              "<meta content=\"CIDOB\" property=\"og:site_name\"/>\n",
              "<meta content=\"http://www.cidob.org/dass-2019041701/var/plain/storage/images/new_site/biografias_lideres_politicos/europa/moldova/maia_sandu/2358537-14-esl-ES/maia_sandu.jpg\" property=\"og:image\"/>\n",
              "<meta content=\"500\" property=\"og:image:width\"/>\n",
              "<meta content=\"654\" property=\"og:image:height\"/>\n",
              "<meta content=\"website\" property=\"og:type\"/>\n",
              "<link href=\"/favicon.ico\" rel=\"shortcut icon\"/>\n",
              "<link href=\"http://www.cidob.org/rss/feed/publications\" rel=\"alternate\" title=\"subscripcion rss\" type=\"application/rss+xml\"/>\n",
              "</head><body>\n",
              "<header id=\"header\">\n",
              "<div class=\"container\">\n",
              "<h1 class=\"logo\">\n",
              "<a href=\"/\" title=\"CIDOB Barcelona Centre for International Affairs\">\n",
              "<img alt=\"CIDOB\" src=\"/dass-2019041701/images/67ce575.png\"/>\n",
              "</a><span class=\"hidden\">CIDOB Barcelona Centre for International Affairs</span>\n",
              "</h1>\n",
              "<div class=\"right-tools\">\n",
              "<div class=\"btn-group lang\">\n",
              "<button class=\"btn dropdown-toggle\" data-hover=\"dropdown\" data-toggle=\"dropdown\"><span>Idioma</span><i class=\"fa fa-globe\"></i><i class=\"fa fa-caret-down\"></i></button>\n",
              "<ul class=\"dropdown-menu\">\n",
              "<li>\n",
              "<a href=\"/ca/biografias_lideres_politicos/europa/moldova/maia_sandu\" title=\"Català\">Català</a>\n",
              "</li>\n",
              "<li>\n",
              "<a href=\"/en/biografias_lideres_politicos_only_in_spanish/europa/moldova/maia_sandu\" title=\"English\">English</a>\n",
              "</li>\n",
              "</ul>\n",
              "</div>\n",
              "<div class=\"btn-group contact\">\n",
              "<a href=\"/contacto\">\n",
              "<button class=\"btn\">CONTACTO</button>\n",
              "</a>\n",
              "</div>\n",
              "<form action=\"/es/content/search\" class=\"header-search\" role=\"search\">\n",
              "<input class=\"form-control\" name=\"searchText\" placeholder=\"Buscar en CIDOB...\" type=\"text\"/>\n",
              "<button class=\"btn\" type=\"submit\"><i class=\"fa fa-search\"></i></button>\n",
              "</form>\n",
              "</div>\n",
              "</div>\n",
              "<div id=\"main-nav\">\n",
              "<div class=\"container\">\n",
              "<nav>\n",
              "<h2 class=\"hidden\">Main Navigation</h2>\n",
              "<div class=\"navbar\" role=\"navigation\">\n",
              "<div class=\"navbar-header\">\n",
              "<button class=\"navbar-toggle\" data-target=\".navbar-collapse\" data-toggle=\"collapse\" type=\"button\">\n",
              "<span class=\"sr-only\">Toggle navigation</span>\n",
              "<span class=\"icon-bar\"></span>\n",
              "<span class=\"icon-bar\"></span>\n",
              "<span class=\"icon-bar\"></span>\n",
              "</button>\n",
              "</div>\n",
              "<div class=\"navbar-collapse collapse\">\n",
              "<div class=\"nav navbar-nav\">\n",
              "<div class=\"principal\">\n",
              "<a class=\"pest\" href=\"/cidob\" title=\"CIDOB\">CIDOB<i class=\"fa fa-caret-down\"></i></a>\n",
              "<div class=\"sub-nav\">\n",
              "<div class=\"container\">\n",
              "<div class=\"row\">\n",
              "<div class=\"col-md-4 col-sm-4\">\n",
              "<ul class=\"simple\">\n",
              "<li>\n",
              "<a href=\"/cidob/presentacion\" title=\"PRESENTACIÓN\">PRESENTACIÓN</a>\n",
              "</li>\n",
              "<li>\n",
              "<a href=\"/cidob/patronato\" title=\"PATRONATO\">PATRONATO</a>\n",
              "</li>\n",
              "<li>\n",
              "<a href=\"/cidob/comites_consultivos_de_cidob\" title=\"COMITÉS CONSULTIVOS DE CIDOB\">COMITÉS CONSULTIVOS DE CIDOB</a>\n",
              "</li>\n",
              "</ul>\n",
              "</div>\n",
              "<div class=\"col-md-4 col-sm-4\">\n",
              "<ul class=\"simple\">\n",
              "<li>\n",
              "<a href=\"/cidob/equipo\" title=\"EQUIPO\">EQUIPO</a>\n",
              "<ul>\n",
              "<li><a href=\"/cidob/equipo/equipo_directivo\" title=\"Equipo directivo\">Equipo directivo</a></li>\n",
              "<li><a href=\"/cidob/equipo/equipo_de_trabajo\" title=\"Equipo de trabajo\">Equipo de trabajo</a></li>\n",
              "<li><a href=\"/cidob/equipo/investigadores\" title=\"Investigadores \">Investigadores </a></li>\n",
              "<li><a href=\"/cidob/equipo/investigadores_asociados\" title=\"Investigadores asociados\">Investigadores asociados</a></li>\n",
              "<li><a href=\"/cidob/equipo/gestores_de_proyectos\" title=\"Gestores de proyectos\">Gestores de proyectos</a></li>\n",
              "</ul>\n",
              "</li>\n",
              "<li>\n",
              "<a href=\"/cidob/plan_director\" title=\"PLAN DIRECTOR  \">PLAN DIRECTOR  </a>\n",
              "</li>\n",
              "<li>\n",
              "<a href=\"/cidob/transparencia\" title=\"TRANSPARENCIA‎\">TRANSPARENCIA‎</a>\n",
              "<ul>\n",
              "<li><a href=\"/cidob/transparencia/informacion_economica_y_presupuestaria\" title=\"Información económica y presupuestaria\">Información económica y presupuestaria</a></li>\n",
              "<li><a href=\"/cidob/transparencia/presupuestos\" title=\"Presupuestos\">Presupuestos</a></li>\n",
              "<li><a href=\"/cidob/transparencia/estatutos\" title=\"Estatutos\">Estatutos</a></li>\n",
              "<li><a href=\"/cidob/transparencia/codigo_etico\" title=\"Código ético \">Código ético </a></li>\n",
              "</ul>\n",
              "</li>\n",
              "<li>\n",
              "<a href=\"/cidob/socios\" title=\"SOCIOS\">SOCIOS</a>\n",
              "</li>\n",
              "</ul>\n",
              "</div>\n",
              "<div class=\"col-md-4 col-sm-4\">\n",
              "<ul class=\"simple\">\n",
              "<li>\n",
              "<a href=\"/cidob/financiacion\" title=\"FINANCIACIÓN\">FINANCIACIÓN</a>\n",
              "<ul>\n",
              "<li><a href=\"/cidob/financiacion/financiacion\" title=\"\"></a></li>\n",
              "</ul>\n",
              "</li>\n",
              "<li>\n",
              "<a href=\"/cidob/memorias\" title=\"MEMORIAS\">MEMORIAS</a>\n",
              "</li>\n",
              "<li>\n",
              "<a href=\"/cidob/historia\" title=\"HISTORIA\">HISTORIA</a>\n",
              "<ul>\n",
              "<li><a href=\"/cidob/historia/josep_ribera_fundador_y_director_de_cidob_1973_2008\" title=\"Josep Ribera, fundador y director de CIDOB (1973-2008)\">Josep Ribera, fundador y director de CIDOB (1973-2008)</a></li>\n",
              "</ul>\n",
              "</li>\n",
              "<li>\n",
              "<a href=\"/cidob/ofertas_de_trabajo\" title=\"OFERTAS DE TRABAJO\">OFERTAS DE TRABAJO</a>\n",
              "</li>\n",
              "</ul>\n",
              "</div>\n",
              "</div>\n",
              "</div>\n",
              "</div>\n",
              "</div>\n",
              "<div class=\"principal\">\n",
              "<a class=\"pest\" href=\"/lineas_estrategicas_de_investigacion\" title=\"Líneas de Investigación\">Líneas de Investigación<i class=\"fa fa-caret-down\"></i></a>\n",
              "<div class=\"sub-nav\">\n",
              "<div class=\"container\">\n",
              "<div class=\"row\">\n",
              "<div class=\"col-md-6 col-sm-6\">\n",
              "<div class=\"line-title\"><span>LÍNEAS TEMÁTICAS</span></div>\n",
              "<div class=\"row\">\n",
              "<div class=\"col-md-6 col-sm-6\">\n",
              "<article class=\"hvr\">\n",
              "<h3><a href=\"/lineas_estrategicas_de_investigacion/lineas_de_investigacion_tematicas/geopolitica_global_y_seguridad\" title=\"Geopolítica global y seguridad\">Geopolítica global y seguridad</a></h3>\n",
              "<p>Esta línea estratégica se centra en el análisis y prospectiva de las dinámicas de cooperación y conflicto, así como los actores e instituciones con proyección global. </p>\n",
              "</article>\n",
              "<article class=\"hvr\">\n",
              "<h3><a href=\"/lineas_estrategicas_de_investigacion/lineas_de_investigacion_tematicas/migraciones\" title=\"Migraciones\">Migraciones</a></h3>\n",
              "<p>CIDOB aborda las migraciones desde una triple perspectiva: como tema de politización de los debates públicos, como objeto de política pública y en relación a sus formas de gobernanza.</p>\n",
              "</article>\n",
              "</div>\n",
              "<div class=\"col-md-6 col-sm-6\">\n",
              "<article class=\"hvr\">\n",
              "<h3><a href=\"/lineas_estrategicas_de_investigacion/lineas_de_investigacion_tematicas/ciudades_y_metropolis_globales\" title=\"Ciudades y metrópolis globales\">Ciudades y metrópolis globales</a></h3>\n",
              "<p>Esta línea estratégica analiza las ciudades en la gobernanza global, así como los retos socioeconómicos y ambientales de las ciudades.</p>\n",
              "</article>\n",
              "<article class=\"hvr\">\n",
              "<h3><a href=\"/lineas_estrategicas_de_investigacion/lineas_de_investigacion_tematicas/desarrollo_sostenible\" title=\"Desarrollo sostenible\">Desarrollo sostenible</a></h3>\n",
              "<p>Esta línea estratégica aborda los retos del desarrollo de forma holística, en el marco de los Objetivos de Desarrollo Sostenible (ODS) para la consecución de la Agenda 2030. </p>\n",
              "</article>\n",
              "</div>\n",
              "</div>\n",
              "</div>\n",
              "<div class=\"col-md-6 col-sm-6\">\n",
              "<div class=\"line-title\"><span>LÍNEAS GEOGRÁFICAS</span></div>\n",
              "<div class=\"row\">\n",
              "<div class=\"col-md-6 col-sm-6\">\n",
              "<article class=\"hvr\">\n",
              "<h3><a href=\"/lineas_estrategicas_de_investigacion/lineas_de_investigacion_geograficas/europa\" title=\"Europa\">Europa</a></h3>\n",
              "<p>La Unión Europea es un referente para la investigación de CIDOB, tomando en consideración los debates sobre su transformación interna y como actor internacional.</p>\n",
              "</article>\n",
              "<article class=\"hvr\">\n",
              "<h3><a href=\"/lineas_estrategicas_de_investigacion/lineas_de_investigacion_geograficas/el_gran_mediterraneo\" title=\"El gran Mediterráneo\">El gran Mediterráneo</a></h3>\n",
              "<p>La perspectiva de CIDOB amplía el foco a los países del Sahel, Irán, Turquía y los países del Golfo, centrándose en dinámicas de fragmentación, interdependencia y periferización. </p>\n",
              "</article>\n",
              "</div>\n",
              "<div class=\"col-md-6 col-sm-6\">\n",
              "<article class=\"hvr\">\n",
              "<h3><a href=\"/lineas_estrategicas_de_investigacion/lineas_de_investigacion_geograficas/america_latina_y_el_espacio_atlantico\" title=\"América Latina y el espacio atlántico\">América Latina y el espacio atlántico</a></h3>\n",
              "<p>CIDOB analiza los cambios políticos que se desarrollan en la región y sus efectos, tanto en las estrategias de desarrollo y de inserción internacional de los países, como en los equilibrios regionales. </p>\n",
              "</article>\n",
              "<article class=\"hvr\">\n",
              "<h3><a href=\"/lineas_estrategicas_de_investigacion/lineas_de_investigacion_geograficas/otras_regiones_de_interes\" title=\"Otras regiones de interés\">Otras regiones de interés</a></h3>\n",
              "<p>CIDOB incorpora en su análisis las dinámicas presentes en otras regiones del mundo, entre las que destacan África subsahariana y el Sahel y Asia-Pacífico.</p>\n",
              "</article>\n",
              "</div>\n",
              "</div>\n",
              "</div>\n",
              "</div>\n",
              "</div>\n",
              "</div>\n",
              "</div>\n",
              "<div class=\"principal\">\n",
              "<a class=\"pest\" href=\"/proyectos\" title=\"Proyectos\">Proyectos<i class=\"fa fa-caret-down\"></i></a>\n",
              "<div class=\"sub-nav\">\n",
              "<div class=\"container\">\n",
              "<div class=\"row\">\n",
              "<div class=\"col-md-6 col-sm-6\">\n",
              "<div class=\"line-title\"><span><a href=\"/proyectos/abierto\" title=\"PROYECTOS EN CURSO\">PROYECTOS EN CURSO</a> <span>(13)</span></span></div>\n",
              "<div class=\"row\">\n",
              "<div class=\"col-md-6 col-sm-6\">\n",
              "<article class=\"hvr\">\n",
              "<h3><a href=\"/proyectos/abierto/niem\" title=\"NIEM\">NIEM</a></h3>\n",
              "</article>\n",
              "<article class=\"hvr\">\n",
              "<h3><a href=\"/proyectos/abierto/eu_listco\" title=\"EU-LISTCO\">EU-LISTCO</a></h3>\n",
              "</article>\n",
              "<article class=\"hvr\">\n",
              "<h3><a href=\"/proyectos/abierto/eu_idea\" title=\"EU IDEA \">EU IDEA </a></h3>\n",
              "</article>\n",
              "<article class=\"hvr\">\n",
              "<h3><a href=\"/proyectos/abierto/admigov\" title=\"ADMIGOV\">ADMIGOV</a></h3>\n",
              "</article>\n",
              "</div>\n",
              "<div class=\"col-md-6 col-sm-6\">\n",
              "<article class=\"hvr\">\n",
              "<h3><a href=\"/proyectos/abierto/regin\" title=\"REGIN\">REGIN</a></h3>\n",
              "</article>\n",
              "<article class=\"hvr\">\n",
              "<h3><a href=\"/proyectos/abierto/cascades\" title=\"CASCADES\">CASCADES</a></h3>\n",
              "</article>\n",
              "<article class=\"hvr\">\n",
              "<h3><a href=\"/proyectos/abierto/facts\" title=\"FACTS\">FACTS</a></h3>\n",
              "</article>\n",
              "<article class=\"hvr\">\n",
              "<h3><a href=\"/proyectos/abierto/foro_europa_cuba_jean_monnet_network\" title=\" Foro Europa Cuba/ Jean Monnet Network\"> Foro Europa Cuba/ Jean Monnet Network</a></h3>\n",
              "</article>\n",
              "</div>\n",
              "</div>\n",
              "</div>\n",
              "<div class=\"col-md-6 col-sm-6\">\n",
              "<div class=\"row\">\n",
              "<div class=\"col-md-6 col-sm-6\">\n",
              "<div class=\"line-title\"><span><a href=\"/proyectos/lineas_de_investigacion_tematicas\" title=\"PROYECTOS POR LÍNEAS TEMÁTICAS\">PROYECTOS POR LÍNEAS TEMÁTICAS</a> <span> (38)</span></span></div>\n",
              "<ul class=\"listado\">\n",
              "<li><a href=\"/proyectos/lineas_de_investigacion_tematicas/geopolitica_global_y_seguridad\" title=\"Geopolítica global y seguridad\">Geopolítica global y seguridad <span>(19)</span></a></li>\n",
              "<li><a href=\"/proyectos/lineas_de_investigacion_tematicas/migraciones\" title=\"Migraciones\">Migraciones <span>(10)</span></a></li>\n",
              "<li><a href=\"/proyectos/lineas_de_investigacion_tematicas/ciudades_y_metropolis_globales\" title=\"Ciudades y metrópolis globales\">Ciudades y metrópolis globales <span>(1)</span></a></li>\n",
              "<li><a href=\"/proyectos/lineas_de_investigacion_tematicas/desarrollo_sostenible\" title=\"Desarrollo sostenible\">Desarrollo sostenible <span>(14)</span></a></li>\n",
              "</ul>\n",
              "</div>\n",
              "<div class=\"col-md-6 col-sm-6\">\n",
              "<div class=\"line-title\"><span><a href=\"/proyectos/lineas_de_investigacion_geograficas\" title=\"PROYECTOS POR LÍNEAS GEOGRÁFICAS\">PROYECTOS POR LÍNEAS GEOGRÁFICAS</a> <span> (39)</span></span></div>\n",
              "<ul class=\"listado\">\n",
              "<li><a href=\"/proyectos/lineas_de_investigacion_geograficas/europa\" title=\"Europa\">Europa <span>(33)</span></a></li>\n",
              "<li><a href=\"/proyectos/lineas_de_investigacion_geograficas/el_gran_mediterraneo\" title=\"El gran Mediterráneo\">El gran Mediterráneo <span>(9)</span></a></li>\n",
              "<li><a href=\"/proyectos/lineas_de_investigacion_geograficas/america_latina_y_el_espacio_atlantico\" title=\"América Latina y el espacio atlántico\">América Latina y el espacio atlántico <span>(6)</span></a></li>\n",
              "<li><a href=\"/proyectos/lineas_de_investigacion_geograficas/otras_regiones_de_interes\" title=\"Otras regiones de interés\">Otras regiones de interés <span>(3)</span></a></li>\n",
              "</ul>\n",
              "</div>\n",
              "</div>\n",
              "</div>\n",
              "</div>\n",
              "</div>\n",
              "</div>\n",
              "</div>\n",
              "<div class=\"principal-solo\">\n",
              "<a class=\"pest\" href=\"/expertos\" title=\"Expertos\">Expertos</a>\n",
              "</div>\n",
              "<div class=\"principal\">\n",
              "<a class=\"pest\" href=\"/publicaciones\" title=\"Publicaciones\">Publicaciones<i class=\"fa fa-caret-down\"></i></a>\n",
              "<div class=\"sub-nav\">\n",
              "<div class=\"container\">\n",
              "<div class=\"row\">\n",
              "<div class=\"col-md-9 col-sm-9\">\n",
              "<div class=\"line-title\"><span><a href=\"#\" title=\"PUBLICACIONES\">PUBLICACIONES</a></span></div>\n",
              "<div class=\"row\">\n",
              "<div class=\"col-md-3 col-sm-3\">\n",
              "<div class=\"sub-tit\">POR SERIES</div>\n",
              "<ul class=\"listado\">\n",
              "<li><a href=\"/publicaciones/(filter)/53216\" title=\"Revista CIDOB d'Afers Internacionals\">Revista CIDOB d'Afers Internacionals</a></li>\n",
              "<li><a href=\"/publicaciones/(filter)/53567\" title=\"Notes Internacionals CIDOB\">Notes Internacionals CIDOB</a></li>\n",
              "<li><a href=\"/publicaciones/(filter)/53786\" title=\"Opinion CIDOB\">Opinion CIDOB</a></li>\n",
              "<li><a href=\"/publicaciones/(filter)/54366\" title=\"Monografías\">Monografías</a></li>\n",
              "<li><a href=\"/publicaciones/(filter)/63309\" title=\"CIDOB Report\">CIDOB Report</a></li>\n",
              "<li><a href=\"/publicaciones/(filter)/63238\" title=\"CIDOB  Briefings\">CIDOB  Briefings</a></li>\n",
              "<li><a href=\"/publicaciones/(filter)/54483\" title=\"Anuario Internacional CIDOB\">Anuario Internacional CIDOB</a></li>\n",
              "<li><a href=\"/publicaciones/(filter)/54523\" title=\"Anuario CIDOB de la Inmigración \">Anuario CIDOB de la Inmigración </a></li>\n",
              "<li><a href=\"/publicaciones/(filter)/56292\" title=\"Documents CIDOB \">Documents CIDOB </a></li>\n",
              "<li><a href=\"/publicaciones/(filter)/54374\" title=\"Interrogar la actualidad\">Interrogar la actualidad</a></li>\n",
              "<li><a href=\"/publicaciones/(filter)/62005\" title=\"MENARA PAPERS\">MENARA PAPERS</a></li>\n",
              "<li><a href=\"/publicaciones/(filter)/71768\" title=\"Project Papers\">Project Papers</a></li>\n",
              "<li><a class=\"ver-todo\" href=\"/publicaciones\" title=\"Ver todo\">Ver todo</a></li>\n",
              "</ul>\n",
              "</div>\n",
              "<div class=\"col-md-3 col-sm-3\">\n",
              "<div class=\"sub-tit\">POR LÍNEAS TEMÁTICAS</div>\n",
              "<ul class=\"listado\">\n",
              "<li><a href=\"/publicaciones/(filter)/40908\" title=\"Geopolítica global y seguridad\">Geopolítica global y seguridad <span>(221)</span></a></li>\n",
              "<li><a href=\"/publicaciones/(filter)/40909\" title=\"Migraciones\">Migraciones <span>(158)</span></a></li>\n",
              "<li><a href=\"/publicaciones/(filter)/65245\" title=\"Ciudades y metrópolis globales\">Ciudades y metrópolis globales <span>(51)</span></a></li>\n",
              "<li><a href=\"/publicaciones/(filter)/57358\" title=\"Desarrollo sostenible\">Desarrollo sostenible <span>(55)</span></a></li>\n",
              "</ul>\n",
              "</div>\n",
              "<div class=\"col-md-3 col-sm-3\">\n",
              "<div class=\"sub-tit\">POR LÍNEAS GEOGRÁFICAS</div>\n",
              "<ul class=\"listado\">\n",
              "<li><a href=\"/publicaciones/(filter)/40878\" title=\"Europa\">Europa <span>(353)</span></a></li>\n",
              "<li><a href=\"/publicaciones/(filter)/40913\" title=\"El gran Mediterráneo\">El gran Mediterráneo <span>(350)</span></a></li>\n",
              "<li><a href=\"/publicaciones/(filter)/40912\" title=\"América Latina y el espacio atlántico\">América Latina y el espacio atlántico <span>(221)</span></a></li>\n",
              "<li><a href=\"/publicaciones/(filter)/40911\" title=\"Otras regiones de interés\">Otras regiones de interés <span>(184)</span></a></li>\n",
              "</ul>\n",
              "</div>\n",
              "</div>\n",
              "</div>\n",
              "<div class=\"col-md-3 col-sm-3\">\n",
              "<div class=\"line-title\"><span><a href=\"#\" title=\"PUBLICACIONES\">PUBLICACIONES</a></span></div>\n",
              "<div>\n",
              "<article class=\"hvr\">\n",
              "<h3><a href=\"/biografias_lideres_politicos\" title=\"Biografías Líderes Políticos\">Biografías Líderes Políticos</a></h3>\n",
              "<p>Biografías de Líderes Políticos es un servicio de CIDOB que ofrece biografías contextualizadas de dirigentes de todo el mundo.</p>\n",
              "<a class=\"boton\" href=\"/biografias_lideres_politicos\" title=\"ACCESO\">ACCESO</a>\n",
              "</article>\n",
              "</div>\n",
              "</div>\n",
              "</div>\n",
              "</div>\n",
              "</div>\n",
              "</div>\n",
              "<div class=\"principal\">\n",
              "<a class=\"pest\" href=\"/actividades\" title=\"Actividades\">Actividades<i class=\"fa fa-caret-down\"></i></a>\n",
              "<div class=\"sub-nav\">\n",
              "<div class=\"container\">\n",
              "<div class=\"row\">\n",
              "<div class=\"col-md-4 col-sm-4\">\n",
              "<article>\n",
              "<span class=\"destacado\">ACTIVIDAD DESTACADA</span>\n",
              "<div class=\"hvr\">\n",
              "<h2><a href=\"/actividades/lineas_de_investigacion_tematicas/migraciones/migraciones_en_tiempos_de_covid_19_frontera_vivienda_y_trabajo\" title=\"Migraciones en tiempos de Covid-19: frontera, vivienda y trabajo\">Migraciones en tiempos de Covid-19: frontera, vivienda y trabajo</a></h2>\n",
              "<p>Diálogo online con motivo del Día Internacional del Migrante.</p>\n",
              "</div>\n",
              "</article>\n",
              "</div>\n",
              "<div class=\"col-md-4 col-sm-4\">\n",
              "<div class=\"line-title\"><span><a href=\"/actividades/proximas_actividades\" title=\"Próximas actividades\">Próximas actividades</a></span></div>\n",
              "<div class=\"activitats-list\">\n",
              "<article class=\"hvr\">\n",
              "<div class=\"calen\">\n",
              "<span class=\"mes\">ene.</span>\n",
              "<span class=\"dia\">23</span>\n",
              "</div>\n",
              "<p class=\"cat\">SEMINARIO <span>-     23/1/2021</span></p>\n",
              "<h4><a href=\"/actividades/lineas_de_investigacion_tematicas/geopolitica_global_y_seguridad/war_peace_in_the_21st_century_conflict_dynamics_and_opportunities_for_cooperation_in_a_covid_19_world\" title=\"War &amp; Peace in the 21st Century: Conflict dynamics and opportunities for cooperation in a COVID-19 world \">War &amp; Peace in the 21st Century: Conflict dynamics and opportunities for cooperation in a COVID-19 world </a></h4>\n",
              "</article>\n",
              "</div>\n",
              "</div>\n",
              "<div class=\"col-md-4 col-sm-4\">\n",
              "<div class=\"line-title\"><span><a href=\"/actividades/actividades_pasadas\" title=\"Actividades pasadas\">Actividades pasadas</a></span></div>\n",
              "<div class=\"activitats-list\">\n",
              "<article class=\"hvr\">\n",
              "<div class=\"calen\">\n",
              "<span class=\"mes\">dic.</span>\n",
              "<span class=\"dia\">16</span>\n",
              "</div>\n",
              "<p class=\"cat\">SEMINARIO <span>-     16/12/2020</span></p>\n",
              "<h4><a href=\"/actividades/lineas_de_investigacion_tematicas/migraciones/migraciones_en_tiempos_de_covid_19_frontera_vivienda_y_trabajo\" title=\"Migraciones en tiempos de Covid-19: frontera, vivienda y trabajo\">Migraciones en tiempos de Covid-19: frontera, vivienda y trabajo</a></h4>\n",
              "</article>\n",
              "<article class=\"hvr\">\n",
              "<div class=\"calen\">\n",
              "<span class=\"mes\">dic.</span>\n",
              "<span class=\"dia\">15</span>\n",
              "</div>\n",
              "<p class=\"cat\">SEMINARIO <span>-     15/12/2020</span></p>\n",
              "<h4><a href=\"/actividades/lineas_de_investigacion_tematicas/geopolitica_global_y_seguridad/opening_of_the_jean_monnet_network_on_eu_counter_terrorism_eucter\" title=\"Opening of the Jean Monnet Network on EU Counter-Terrorism (EUCTER)\">Opening of the Jean Monnet Network on EU Counter-Terrorism (EUCTER)</a></h4>\n",
              "</article>\n",
              "<article class=\"hvr\">\n",
              "<div class=\"calen\">\n",
              "<span class=\"mes\">dic.</span>\n",
              "<span class=\"dia\">14</span>\n",
              "</div>\n",
              "<p class=\"cat\">SEMINARIO <span>-     14/12/2020</span></p>\n",
              "<h4><a href=\"/actividades/lineas_de_investigacion_tematicas/geopolitica_global_y_seguridad/human_security_in_a_time_of_covid_19_online_session_with_mary_kaldor\" title=\"“Human Security in a Time of Covid-19” Online session with Mary Kaldor\">“Human Security in a Time of Covid-19” Online session with Mary Kaldor</a></h4>\n",
              "</article>\n",
              "</div>\n",
              "</div>\n",
              "</div>\n",
              "</div>\n",
              "</div>\n",
              "</div>\n",
              "<div class=\"principal-solo\">\n",
              "<a class=\"pest\" href=\"/noticias\" title=\"Noticias\">Noticias</a>\n",
              "</div>\n",
              "<div class=\"principal-solo\">\n",
              "<a class=\"pest\" href=\"/prensa\" title=\"Prensa\">Prensa</a>\n",
              "</div>\n",
              "<div class=\"principal-solo\">\n",
              "<a class=\"pest\" href=\"/agenda_global\" title=\"Agenda Global\">Agenda Global</a>\n",
              "</div>\n",
              "</div>\n",
              "</div>\n",
              "</div>\n",
              "</nav>\n",
              "</div>\n",
              "</div>\n",
              "</header>\n",
              "<!-- ML:56791 -->\n",
              "<div class=\"container\">\n",
              "<div id=\"breadcrumb\" itemscope=\"\" itemtype=\"http://data-vocabulary.org/Breadcrumb\">\n",
              "<a href=\"/\" itemprop=\"url\" title=\"Home\"><span itemprop=\"title\"><i class=\"fa fa-home\"></i></span></a>\n",
              "<span class=\"separator\">»</span>\n",
              "<div itemprop=\"child\" itemscope=\"\" itemtype=\"http://data-vocabulary.org/Breadcrumb\">\n",
              "<a href=\"/biografias_lideres_politicos\" itemprop=\"url\" title=\"Biografías Líderes Políticos\">\n",
              "<span itemprop=\"title\">Biografías Líderes Políticos</span>\n",
              "</a>\n",
              "</div>\n",
              "<span class=\"separator\">»</span>\n",
              "<div itemprop=\"child\" itemscope=\"\" itemtype=\"http://data-vocabulary.org/Breadcrumb\">\n",
              "<a href=\"#\" itemprop=\"url\" title=\"Europa\">\n",
              "<span itemprop=\"title\">Europa</span>\n",
              "</a>\n",
              "</div>\n",
              "<span class=\"separator\">»</span>\n",
              "<div itemprop=\"child\" itemscope=\"\" itemtype=\"http://data-vocabulary.org/Breadcrumb\">\n",
              "<a href=\"#\" itemprop=\"url\" title=\"Moldova\">\n",
              "<span itemprop=\"title\">Moldova</span>\n",
              "</a>\n",
              "</div>\n",
              "<span class=\"separator\">»</span>\n",
              "<div itemprop=\"child\" itemscope=\"\" itemtype=\"http://data-vocabulary.org/Breadcrumb\">\n",
              "<span itemprop=\"title\">Maia Sandu</span>\n",
              "</div>\n",
              "</div>\n",
              "</div>\n",
              "<div class=\"banda-titulo\">\n",
              "<div class=\"container\">\n",
              "<div class=\"row\">\n",
              "<div class=\"col-md-12 col-sm-12\">\n",
              "<h1 class=\"boxed\">Maia Sandu</h1>\n",
              "</div>\n",
              "<div class=\"col-sm-12\">\n",
              "<div class=\"expert-detall\">\n",
              "<div class=\"row\">\n",
              "<div class=\"col-md-12\">\n",
              "<div class=\"row\">\n",
              "<div class=\"col-md-3 col-sm-2\">\n",
              "<img alt=\"© Unión Europea (2019)\" src=\"/dass-2019041701/var/plain/storage/images/new_site/biografias_lideres_politicos/europa/moldova/maia_sandu/2358537-14-esl-ES/maia_sandu_biography.jpg\"/>\n",
              "<p class=\"photo-credit\">© Unión Europea (2019)</p>\n",
              "</div>\n",
              "<div class=\"col-md-9 col-sm-10\">\n",
              "<div class=\"contenido\">\n",
              "<p class=\"update\">Actualización: 26 diciembre 2020 </p>\n",
              "<h2 class=\"country\">Moldova</h2>\n",
              "<h2>Presidenta de la República (2020-); primera ministra (2019)</h2>\n",
              "<ul>\n",
              "<li class=\"alias\"> </li>\n",
              "<li><strong>Mandato:</strong> 24 diciembre 2020 - En ejercicio</li>\n",
              "<li><strong>Nacimiento:</strong> Risipeni, raión de Falesti, 24 mayo 1972</li>\n",
              "<li><strong>Partido político:</strong> Partido de Acción y Solidaridad (PAS); ant., del Partido Liberal Democrático de Moldova (PLDM)</li>\n",
              "<li><strong>Profesión:</strong> Administradora y politóloga</li>\n",
              "</ul>\n",
              "<a class=\"boton\" href=\"/profileexportpdf/70323\" onclick=\"_gaq.push(['_trackEvent','Download','PDF',this.href]);\" target=\"_blank\" title=\"Descarga\"><i class=\"fa fa-download\"></i>Descarga</a>\n",
              "</div>\n",
              "</div>\n",
              "</div>\n",
              "</div>\n",
              "</div>\n",
              "</div>\n",
              "<div class=\"col-md-12\">\n",
              "<div id=\"edicion\">\n",
              "<p>Editado por: <a href=\"mailto:biografias@cidob.org\"><span>Roberto Ortiz de Zárate</span></a></p>\n",
              "</div>\n",
              "</div>\n",
              "</div>\n",
              "</div>\n",
              "<!-- Go to www.addthis.com/dashboard to customize your tools -->\n",
              "<script type=\"text/javascript\">\n",
              "            var addthis_config = {\n",
              "            data_ga_property: 'UA-2261764-1',\n",
              "              };\n",
              "        </script>\n",
              "<script src=\"//s7.addthis.com/js/300/addthis_widget.js#pubid=ra-554893f708db3c6e\" type=\"text/javascript\"></script>\n",
              "<script type=\"text/javascript\">\n",
              "           // var addthis_config = addthis_config||{};\n",
              "           // addthis_config.ui_offset_left = -143;\n",
              "        </script>\n",
              "<!-- Go to www.addthis.com/dashboard to customize your tools -->\n",
              "<div class=\"bottom-toolbox\"><div class=\"addthis_sharing_toolbox\"></div></div>\n",
              "</div>\n",
              "</div>\n",
              "<div class=\"container\">\n",
              "<div class=\"row\">\n",
              "<section class=\"col-md-12 col-sm-12 col-xs-12 main\">\n",
              "<h2 class=\"left-line-title\"><span>Presentación</span></h2>\n",
              "<div class=\"ezxmltext-field\"><div align=\"justify\"><strong>\n",
              "En 2016 en Moldova, Maia Sandu, candidata centrista y proeuropea del Partido de Acción y Solidaridad (PAS), contendió sin éxito en una bronca elección presidencial con  <a href=\" https://www.cidob.org/biografias_lideres_politicos/europa/moldova/igor_dodon\">Igor Dodon</a>, líder del izquierdista y prorruso Partido de los Socialistas de la República de Moldova (PSRM). Tres años después, en junio de 2019, ambos, ella como cabeza de la tercera fuerza del Parlamento, la alianza ACUM formada por el PAS y la Plataforma Dignidad y Verdad, y él como presidente de la República y líder de facto del partido más votado en los comicios de febrero, suspendieron su mutua malquerencia en aras de un Gobierno de coalición mayoritario y con Sandu de primera ministra. Su nombramiento generó una enrevesada trifulca, pronto solventada, entre partidos e instituciones, viviendo el país durante unos días una auténtica crisis constitucional. Sin embargo, el inesperado entendimiento entre Sandu y Dodon, nunca convincente, no tardó en saltar en pedazos: al cabo de cinco meses, los socialistas declararon rota la coalición, derribaron al Gobierno vía moción de censura y formaron un Ejecutivo monocolor encabezado por el independiente <a href=\"https://www.cidob.org/biografias_lideres_politicos/europa/moldova/ion_chicu\">Ion Chicu</a>. Sandu se resarció en las elecciones presidenciales a doble vuelta del 1 y 15 de noviembre de 2020, ganadas frente a Dodon y celebradas en clave de referéndum nacional sobre la orientación geopolítica de Moldova.\n",
              "<br/><br/>\n",
              "El efímero Gabinete Sandu de 2019 supuso la clausura de una década de gobiernos de coalición, seis, integrados por los partidos del ala liberal de centro-derecha, de la que ella procedía. Las credenciales de estas agrupaciones eran intensamente europeístas, así como prorrumanas y anticomunistas, pero al mismo tiempo arrastraban un historial de delitos económicos, el desfalco de capital bancario, de enorme magnitud. Cuando asumió el puesto, esta antigua economista contratada por el Banco Mundial reconoció que su sorpresivo acuerdo con el PSRM y Dodon, partidarios de estrechar lazos con Rusia, no era una \"alianza natural\" y resultaba chocante por la lejanía ideológica, pero arguyó motivos prácticos, fundamentalmente el compromiso común de desterrar la corrupción de las altas esferas, acabar con la influencia perniciosa de los llamados <i>oligarcas</i> y regenerar la vida pública, plagada de escándalos, forcejeos e inestabilidad. Fue justamente un desacuerdo insalvable sobre las vías para el combate a la corrupción -en concreto, la propuesta por Sandu de un nuevo mecanismo para el nombramiento del fiscal general- el pretexto aducido por Dodon y los socialistas para finiquitar el experimento de la coalición con el bloque ACUM. \n",
              "<br/><br/>\n",
              "La antigua república soviética de Moldova, encajonada entre Ucrania y Rumanía (cuyo idioma emplea la mayoría de la población) y territorialmente fracturada por la secesión de la rusófila República del Transdniéster (no reconocida pero soberana de facto desde la guerra civil de 1992), es el país menos desarrollado de Europa y participa en la Política Europea de Vecindad de la UE a través de un Acuerdo de Asociación, en vigor desde 2016, y el Partenariado Oriental. Sin embargo, las autoridades de Chisinau aún no han presentado la solicitud formal del ingreso en Bruselas, que periódicamente reclama más brío reformista en los terrenos de la lucha antifraude y la independencia del sistema judicial. En 2019 Sandu se presentaba como una opción puente entre dos bandos nacionales antagónicos que deseaba limar aristas, destensar la política moldava y ayudar a construir un Estado \"funcional\". Después de la \"traicionera\" defenestración de su Gabinete, su distanciamiento del socialismo prorruso, primera fuerza parlamentaria y en la que, afirma, \"ya no se puede confiar\", es mucho mayor.\n",
              "<br/><br/>\n",
              "Como primera ministra, Sandu apostó por el pragmatismo en los tratos con Rusia, que había impuesto a la vulnerable Moldova penalizaciones comerciales y energéticas en castigo por su orientación estratégica proeuropea. Ahora, como presidenta, seguirá involucrada en la formulación de la política exterior, ya que las únicas atribuciones significativas de su cargo, de tipo ceremonial, se enmarcan precisamente en las relaciones internacionales. La mandataria electa ya ha recalcado que \"la UE es nuestro camino\", pero sostiene la necesidad de tener buenas relaciones con Rusia, a la que reclama de paso la retirada de sus 1.500 soldados acantonados en el Transdniéster. Su objetivo, en síntesis, es el \"diálogo pragmático con todos los países\". El 23 de diciembre Sandu relevará a Dodon en la Presidencia y tendrá que cohabitar con el Gobierno minoritario y \"tecnocrático\" del PSRM, el cual ha enfriado la cooperación con la UE y el FMI, y viene explorando la asistencia financiera y las inversiones alternativas de Rusia y Turquía mientras el país sufre el desplome económico derivado de la COVID-19.\n",
              "</strong><br/><br/><i>(Texto actualizado hasta diciembre 2020)</i></div></div>\n",
              "</section>\n",
              "<section class=\"col-md-12 col-sm-12 col-xs-12 main\">\n",
              "<h2 class=\"left-line-title\"><span>Biografía</span></h2>\n",
              "<div class=\"ezxmltext-field\"><div align=\"justify\"><a href=\"#1\">1. Una economista liberal decepcionada por la corrupción de la clase política moldava</a><br/><a href=\"#2\">2. Candidata presidencial en 2016 enfrentada al socialista Dodon y primera ministra en 2019 en coalición con su partido</a><br/><a href=\"#3\">3. Fallido experimento de gobierno revancha en las presidenciales de 2020</a><br/><a name=\"1\"><br/><br/><b>1. Una economista liberal decepcionada por la corrupción de la clase política moldava</b></a><br/>    \n",
              "Maia Sandu vivió el proceso histórico (1990-1992) de la soberanía y la independencia nacionales de su país a partir de la URSS siendo estudiante de Administración en la Academia de Estudios Económicos de Moldova (ASEM), centro universitario público de Chisinau. En 1994, con 22 años, entró a trabajar como consultora y funcionaria en el Ministerio de Economía, si bien continuó con su formación en las aulas de la Academia de Administración Pública (APA), que le otorgó un máster en Relaciones Internacionales en 1998. \n",
              "<br/><br/>\n",
              "En la década siguiente, Sandu ejerció sucesivamente de economista en las oficinas del Banco Mundial en Moldova, directora general de Políticas Macroeconómicas y Programas de Desarrollo en el Ministerio de Economía, coordinadora de programas para el Programa de las Naciones Unidas para el Desarrollo (PNUD) y consultora del Gobierno para la reforma de la administración pública. En 2009 marchó a Estados Unidos con la idea de sacarse un máster en Administración Pública en la John F. Kennedy School of Government de Harvard y en 2010, una vez obtenido el título, volvió a trabajar para el Banco Mundial en calidad de consejera de las direcciones ejecutivas en la sede central del organismo en Washington, DC.\n",
              "<br/><br/>\n",
              "En julio de 2012 Sandu retornó a Moldova para asumir su primer cometido gubernamental, el de ministra de Educación en el segundo Gobierno de coalición del primer ministro Vlad Filat, jefe del centroderechista Partido Liberal Democrático de Moldova (PLDM). La economista se dio de alta en el PLDM, formación que desde las elecciones legislativas de 2010 llevaba la voz cantante en el arco de partidos proeuropeos, si bien la primera fuerza del Parlamento en aquel momento era el prorruso Partido de los Comunistas de la República de Moldova (PCRM), liderado por el anterior presidente de la República <a href=\" https://www.cidob.org/biografias_lideres_politicos/europa/moldova/vladimir_voronin \">Vladimir Voronin</a>. El PLDM conducía en aquellos momentos la Alianza por la Integración Europea, de la que también formaban parte el Partido Democrático de Moldova (PDM) y el Partido Liberal (PL).\n",
              "<br/><br/>\n",
              "Sandu retuvo su cartera ministerial en los dos gobiernos de coalición que siguieron a la caída del Gabinete Filat -al perder una moción de censura de los comunistas como consecuencia de la ruptura de la Alianza por la Integración Europea- en marzo de 2013, el de Iurie Leanca y, desde febrero de 2015, el de Chiril Gaburici, personalidades ambas del PLDM. Prolongando la secuencia de inestabilidad gubernamental, el primer ministro Gaburici dimitió en junio de 2015 y el 30 de julio el también liberaldemócrata Valeriu Strelet alineó un ejecutivo tripartito que ya no contó con Sandu. De hecho, el PLDM ofreció a Sandu ser la candidata del oficialismo para suceder a Gaburici, reemplazado en funciones por Natalia Gherman, pero ella estableció unas condiciones que no fueron admitidas por el líder del partido, Filat.\n",
              "<br/><br/>\n",
              "En diciembre de 2015, hastiada del tropel de turbulencias políticas y escándalos de corrupción protagonizados por las agrupaciones que se llamaban a sí mismas anticomunistas y proeuropeas, y en particular impactada por la caída en desgracia de su superior partidario, el anterior primer ministro Filat, despojado de la inmunidad parlamentaria, detenido y llevado a juicio bajo la acusación de orquestar un gigantesco desfalco bancario, la ex ministra rompió con el PLDM y puso en marcha una plataforma personal de signo opositor que el 15 de mayo de 2016, funcionando el Gobierno del primer ministro <a href=\" https://www.cidob.org/biografias_lideres_politicos/europa/moldova/pavel_filip\">Pavel Filip</a>, al frente de una nueva coalición PLDM-PDM-PL, se organizó como Partido de Acción y Solidaridad (PAS). \n",
              "<br/><br/>\n",
              "Con Sandu de presidenta e Igor Grosu de secretario general, el PAS se presentó a la opinión pública como un partido de centro-derecha identificado con el liberalismo social y de firmes convicciones europeístas. No obstante su definición liberal, Sandu solicitó y obtuvo la incorporación del PAS al Partido Popular Europeo (PPE). El común discurso del rechazo tajante a la corrupción que desacreditaba a las élites políticas moldavas y manchaba la reputación internacional del país aproximó a Sandu a la Plataforma Dignidad y Verdad (PPDA o DA). Este partido acababa de ser fundado por el activista y antiguo fiscal Andrei Nastase al calor de las multitudinarias manifestaciones cívicas, las mayores desde la independencia en 1991, en protesta por el deterioro de las condiciones económicas, la influencia desmesurada de los llamados \"oligarcas\", magnates de la empresa y las finanzas enriquecidos turbiamente, y el latrocinio de capitales por conocidos rostros de la política.\n",
              "<br/><a name=\"2\"><br/><br/><b>2. Candidata presidencial en 2016 enfrentada al socialista Dodon y primera ministra en 2019 en coalición con su partido</b></a><br/>    \n",
              "Sandu se inscribió para las elecciones presidenciales de octubre de 2016, de las que debía salir el sucesor del jefe del Estado desde 2012, el independiente <a href=\" https://www.cidob.org/biografias_lideres_politicos/europa/moldova/nicolae_timofti\">Nicolae Timofti</a>. La liberal tenía varios contrincantes, el más potente de los cuales era el izquierdista <a href=\" https://www.cidob.org/biografias_lideres_politicos/europa/moldova/igor_dodon\">Igor Dodon</a>, líder del Partido de los Socialistas de la República de Moldova (PSRM), ganador con mayoría simple de las votaciones legislativas de 2014. Arguyendo la necesidad de preservar la neutralidad del país en política exterior, Dodon, anterior militante comunista, se mostraba dispuesto a frenar la orientación proeuropea de Moldova en favor de un acercamiento a Rusia, de cuyo presidente, Vladímir Putin, era admirador confeso. \n",
              "<br/><br/>\n",
              "Aunque ideológicamente contrapuestos, uno y otra coincidían en prometer el fortalecimiento de las instituciones republicanas, el combate a la corrupción, la investigación a fondo, cayera quien cayera, del saqueo en 2014 de casi 1.000 millones de dólares de fondos bancarios puestos bajo la supervisión del Estado, el aumento de las partidas del gasto social y la reversión de la crisis económica que azotaba al país menos desarrollado de Europa. Ciertamente, ambos se situaban en la oposición al Gobierno Filip. Sin embargo, Sandu y Dodon libraron una campaña áspera, en la que se lanzaron mutuamente trapos sucios sobre presuntas venalidades y connivencias furtivas con potencias extranjeras, Rusia en el caso de él, Estados Unidos y Rumania en el caso de ella.\n",
              "<br/><br/>\n",
              "Las perspectivas de Sandu parecieron cobrar brío en las dos últimas semanas de la campaña al anunciar dos candidatos relevantes, Andrei Nastase, el líder del DA, y Marian Lupu, el jefe nominal del PDM y supuesto \"títere\" del oligarca Vlad Plahotniuc, su retirada de la competición y su apoyo a la ex ministra de Educación, que ya disponía de los respaldos del Partido Liberal Reformador (PLR), el Partido Verde Ecologista (PVE) y su anterior colectividad, el PLDM, ahora conducido por Viorel Cibotaru, quien proclamaba una ruptura total con la era Filat. Ahora bien, los avales del PDM y el PLDM, dos partidos en la picota a causa de la corrupción, tanto podían aportar a Sandu votantes como retraerlos.\n",
              "<br/><br/>\n",
              "Sin embargo, el 30 de octubre de 2016 Dodon se puso en cabeza con un potente 48% de los votos; por poco, el socialista no se proclamó presidente en la primera vuelta. Sandu, receptora del 38,7% de los sufragios, pasó a disputar con él el balotaje. Eliminados quedaron Dumitru Ciubasenco de Nuestro Partido (PN, izquierda populista prorrusa), el ex primer ministro Iurie Leanca por el Partido Popular Europeo de Moldova (PPEM) y Mihai Ghimpu del PL, único de los tres partidos del Gobierno que concurría con un candidato. La segunda vuelta tuvo lugar el 13 de noviembre y para Sandu se saldó con la derrota definitiva con el 47,9% de los votos.\n",
              "<br/><br/><b>Elecciones legislativas y crisis constitucional</b><br/>\n",
              "El 16 de diciembre de 2018 Sandu y Nastase lanzaron el bloque electoral y \"movimiento de resistencia\" <i>Ahora</i> (<i>ACUM</i>) entre el DA y el PAS. Era su respuesta a la invalidación judicial del triunfo de Nastase en las elecciones a alcalde de Chisinau, pero también su apuesta para enfrentarse al PSRM, presidido por la ex primera ministra Zinaida Greceanîi, y al PDM del polémico Vladimir Plahotniuc en las elecciones legislativas del 24 de febrero de 2019. Al bloque ACUM se adhirieron el PLDM de Deliu Tudor, cuyas perspectivas electorales eran mínimas, y el nuevo Partido de Unidad Nacional (PUN) de Anatol Salaru.\n",
              "<br/><br/>\n",
              "En los comicios, el ACUM DA-PAS fue la segunda lista más votada con el 26,8% de los votos, a la zaga del recrecido PSRM de Greceanîi y Dodon, pero, debido a las particularidades del sistema electoral, recibió menos escaños, 26, que el PDM, el cual también subió con fuerza. Tanto las ganancias obtenidas por socialistas y demócratas como el vigoroso debut del tándem Sandu-Nastase se nutrían de los hundimientos totales del viejo PCRM y del PL, amén de la virtual desaparición del PLDM, reducido a la condición de mera muletilla del PAS. Para Sandu, por de pronto, las elecciones supusieron su regreso al Parlamento, del que ya había sido miembro brevemente, con el PLDM, entre las elecciones de noviembre de 2014 y su confirmación como ministra de Educación en el Gobierno Gaburici en febrero de 2015.\n",
              "<br/><br/>\n",
              "Las conversaciones para la formación del nuevo Ejecutivo no tardaron en quedar empantanadas por las diferencias aparentemente insolubles entre tres partidos que durante la campaña electoral habían dado cancha a su mutua hostilidad. La postura más intransigente recayó en Sandu, quien rechazó sendas ofertas de coalición del PSRM y el PDM. De acuerdo con la Constitución, si el Parlamento no era capaz de materializar un gobierno en los tres meses transcurridos desde la certificación de los resultados electorales, el presidente de la República estaba facultado para declarar fallida la legislatura y convocar nuevas elecciones. Puesto que la certificación de las elecciones de febrero la había hecho el Tribunal Constitucional el 9 de marzo, se entendía que la fecha límite para instalar el nuevo Gabinete era el 9 de junio.\n",
              "<br/><br/>\n",
              "Sin embargo, dos jornadas antes, el 7 de junio, el Tribunal Constitucional, en un auto sorpresa, estableció que el plazo legal de los 90 días expiraba aquel mismo día y, por lo tanto, daba al presidente la orden de proceder con la convocatoria electoral. Dodon, de hecho, ya había avisado semanas atrás que si los partidos no se ponían de acuerdo para alinear un Gabinete de mayoría, él no tendría más remedio que disolver el Parlamento y llamar a elecciones.\n",
              "<br/><br/>\n",
              "El 8 de junio llegó un segundo sobresalto: el PSRM y el ACUM comunicaron que habían alcanzado un acuerdo exprés para instalar un Gobierno de coalición fundado en una mayoría absoluta de 61 diputados y con Sandu de primera ministra. De inmediato, el Tribunal Constitucional declaró ilegal la designación de Sandu, pero Dodon ignoró a la corte y emitió el nombramiento oficial del Gobierno, que se consideró instalado ese mismo día. A Sandu la flanqueaban dos viceprimeros ministros, su aliado Nastase y Vasilii Sova por el PSRM. De la decena de ministros, dos correspondían al PAS, incluido el de Finanzas, dos al DA, incluido el de Interior (el propio Nastase) y uno, el de Defensa, al PSRM, quedando las restantes cinco carteras, entre ellas la de Exteriores, para personas independientes.\n",
              "<br/><br/>\n",
              "El conflicto entre instituciones y partidos devino una crisis constitucional en toda regla. El 9 de junio, mientras el PDM de Plahotniuc y Filip, en teoría primer ministro saliente, acusaban a sus adversarios de violar la ley flagrantemente y de detentar el poder de manera \"ilegítima\" con el único propósito de \"entregar\" el país a los rusos, y Dodon acusaba su vez al PDM de aferrarse al poder para seguir \"controlando\" las instituciones del Estado a su antojo, el Tribunal Constitucional declaró que el nombramiento del Gobierno Sandu era ilegal y dispuso la transferencia temporal de las funciones del presidente de la República al primer ministro Filip, el cual, al punto, firmó un decreto de disolución del Parlamento y de convocatoria de elecciones para el 6 de septiembre. La UE, inquieta por el curso de los acontecimientos en Moldova, miembro del Partenariado Oriental y con la que tenía suscrito un Acuerdo de Asociación, envió a Chisinau un llamamiento a la \"calma\", la \"contención\" y el \"diálogo\" para solucionar la crisis.\n",
              "<br/><br/>\n",
              "El 11 de junio Dodon contraatacó anulando el decreto de Filip, quien el día 14 desistió presentando la dimisión. El 15 de junio el grave forcejeo institucional llegó a su fin con la retractación del Tribunal Constitucional, que revocó su declaración de ilegalidad del día 9. Sandu, primera ministra ya a todos los efectos y sin lugar a dudas, salió a declarar que consideraba \"sincera\" la aceptación por el PDM de su \"derrota\", pero no dejó de reclamar la dimisión de los magistrados del Tribunal Constitucional. Asimismo, reconoció que su sorpresivo entendimiento con el prorruso PSRM no era una \"alianza natural\", pero que en estos momentos lo más importante era dotar a la inestable Moldova de un Gobierno sólido y dispuesto a dar pasos decisivos para erradicar la corrupción en las altas instancias y acometer las reformas estructurales que fueran necesarias. \n",
              "<br/><a name=\"3\"><br/><br/><b>3. Fallido experimento de gobierno y revancha en las presidenciales de 2020</b></a><br/>    \n",
              "El nuevo Gobierno Sandu se apresuró a reformular la política exterior con un enfoque más pragmático de las espinosas relaciones ruso-moldavas. Con Rusia, la primera ministra deseaba abordar la cancelación de las restricciones comerciales, impuestas por Moscú a Chisinau en castigo por su orientación estratégica prooccidental, y la garantía de los vitales suministros energéticos. También, contemplaba el escenario, altamente improbable en las actuales circunstancias, de la retirada de las tropas rusas de la región secesionista rusófona del Transdniéster, 1.500 soldados estacionados allí desde la guerra civil de 1992 y con una doble misión oficial, custodiar depósitos de armas y realizar labores de interposición y pacificación. Sandu planteaba al Gobierno ruso una normalización de las relaciones bilaterales, pero sin sacrificar el curso proeuropeo de Moldova. Además, descartaba una federalización del país, punto que para la autoproclamada República Moldava Pridnestroviana constituía la mínima base de negociación de un arreglo de este conflicto congelado del espacio postsoviético. El Gobierno transnistrio de Tiráspol ejercía una autoridad soberana de facto sobre la estrecha franja de territorio de poco más de 4.000 km2 que delimitaban el río Dniéster al oeste y la frontera ucraniana al este.\n",
              "<br/><br/>\n",
              "Como paso preliminar, Sandu anunció el levantamiento de la prohibición impuesta en marzo de 2017 por Pavel Filip de los viajes oficiales a Rusia por miembros del Gobierno moldavo. El último desplazamiento de estas características había sido el realizado en 2012 por el entonces primer ministro, Vlad Filat. Sandu tenía prisa por reactivar los contactos entre gobiernos y sopesaba el viaje personal a Moscú para conseguir la despenalización de las exportaciones moldavas, un contrato de compra de gas ruso a precios asequibles y, si era posible, un calendario para la repatriación de tropas del Transdniéster, pero antes visitó Bucarest, Bruselas y Kíev. El 16 de julio, desde Berlín, la primera ministra informó que había recibido del Gobierno ruso una invitación para encontrarse con su homólogo <a href=\"https://www.cidob.org/biografias_lideres_politicos/europa/rusia/dmitri_medvedev\">Dmitri Medvédev</a> en el Kremlin. El viaje oficial a Rusia quedó programado para septiembre, pero supuestos problemas de agenda obligaron a posponerlo sine díe. A cambio, Sandu se desplazó a Estados Unidos, donde no se reunió ni con el presidente Donald Trump ni con el secretario de Estado Mike Pompeo, sino únicamente con los dos congresistas al frente del Grupo de Apoyo Político del Congreso de Estados Unidos a la República de Moldova.\n",
              "<br/><br/>\n",
              "Al final, los ambiciosos planes de Sandu con respecto a Rusia, y con ellos el resto de su programa político, iban a quedar frustrados porque su Gobierno se vino abajo en un tiempo récord. La voladura del acuerdo del 8 de junio entre el ACUM y el PRSM la activó este último, que, no debía olvidarse, era el primer partido del Parlamento.\n",
              "<br/><br/>\n",
              "La falta de sintonía entre Sandu y Dodon, tan dispares ideológicamente, era un hecho evidente desde el principio, pero el primer encontronazo serio llegó a mediados de agosto de 2019, cuando la primera ministra preparó un decreto para que la celebración nacional cada 24 de agosto de la victoria del Ejército Rojo sobre Alemania en 1944, el denominado Día de la Liberación de la Ocupación Fascista, se asimilara al Día Europeo de Conmemoración de las Víctimas del Estalinismo y el Nazismo, observado en la UE el 23 de agosto. De inmediato, el presidente rechazó la propuesta de la primera ministra y dejó claro que la festividad del 24 de agosto, en la que el jefe del Estado adquiría un protagonismo especial, tendría lugar con el formato habitual.\n",
              "<br/><br/>\n",
              "Llegado el otoño, las fricciones se agravaron debido a otra iniciativa unilateral de Sandu, quien puso sobre la mesa una modificación de los trámites para el nombramiento del titular de la Fiscalía General de la República. A fin de cubrir la vacancia abierta por el final del mandato de Eduard Harunjen, para el que el Ministerio de Justicia no conseguía encontrar sucesor, Sandu propuso que el alto funcionario fuera seleccionado de entre un ramillete de candidatos propuestos por ella misma. Se trataba, defendía la gobernante, de una reforma exprés imprescindible, en línea con lo demandado desde la UE, a fin de asegurar que el fiscal general fuera un profesional \"independiente e insobornable\" y que el Ministerio Público pudiera ejercer sus funciones en la lucha anticorrupción con la mayor eficacia.\n",
              "<br/><br/>\n",
              "El PSRM exigió la retirada de la reforma \"inconstitucional\", pero Sandu se reafirmó. La respuesta del partido que en nombre de Dodon mandaba Zinaida Greceanîi, a la sazón presidenta del Parlamento, fue expeditiva: declarar rota la coalición con el ACUM y lanzar una moción de censura contra el Gobierno del que era miembro con el único objeto de defenestrar a Sandu. Desde la oposición, el PDM, ahora liderado por Pavel Filip en lugar de Vladimir Plahotniuc (prófugo de la justicia, exiliado en Turquía y al que Sandu quería ver rindiendo cuentas penales en Moldova), anunció su respaldo al PSRM. La censura parlamentaria salió adelante el 12 de noviembre con el resultado cantado de 63 votos a favor. El Gobierno Sandu había sucumbido con tan solo cinco meses de ejercicio. \n",
              "<br/><br/>\n",
              "Sin perder un minuto, Dodon nominó primer ministro a <a href=\"https://www.cidob.org/biografias_lideres_politicos/europa/moldova/ion_chicu\">Ion Chicu</a>, ex ministro de Finanzas no afiliado pero muy cercano a los socialistas, tratándose de hecho de un asesor adjunto a la Presidencia. Al día siguiente echó a andar el nuevo Gabinete minoritario de Chicu, nutrido con un par de miembros del PSRM y fundamentalmente por tecnócratas que sobre el papel eran independientes, aunque en su mayor parte se trataba de personas próximas al grupo de Greceanîi y el entorno presidencial. La Comisión Europea valoró que el súbito cambio de guardia en Moldova enviaba \"señales preocupantes para el proceso de reformas en el país\". Sandu no se mordió la lengua y calificó la moción de censura del PSRM de \"traición\" a un equipo de Gobierno dedicado a \"defender los intereses del pueblo\", traición que había triunfado con la ayuda de \"algunos ladrones del Parlamento\" que intentaban \"resistirse a las reformas en Moldavia\". En cuanto al previsto viaje oficial de Sandu a Moscú, fue Chicu el que lo realizó en el mes de noviembre, dejando patente las simpatías prorrusas del nuevo Ejecutivo. Por lo demás, el Gobierno Chicu iba a quedar reforzado el 16 de marzo de 2020 con la incorporación de ministros del PDM, pero este partido regresaría a la oposición el 7 de noviembre siguiente. \n",
              "<br/><br/>\n",
              "Arrojada a la oposición, la líder del PAS se dispuso a preparar su contraataque político, que tendría lugar pronto, en las elecciones presidenciales previstas para dentro exactamente de un año. El 18 de julio de 2020, con el país sumido en la pandemia COVID-19 y en proceso de dejar atrás las restricciones más severas de la cuarentena nacional para contener el coronavirus (desde el 15 de mayo regía la situación de emergencia de salud pública, en lugar del estado de emergencia declarado el 17 de marzo), Sandu lanzó su candidatura presidencial. La misma recabó la adhesión de Pro Moldova, el nuevo partido liberal europeísta fundado por el ex presidente del Parlamento Andrian Candu, escindido del PDM, pero no de la DA de Andrei Năstase, el anterior aliado del ya caducado ACUM, quien optó por concurrir por su cuenta. Los otros contrincantes de Sandu iban a ser: Dodon, aspirante a la reelección por el PSRM; Violeta Ivanov por el Movimiento Socio-Político Republicano Igualdad, más conocido como el Partido Sor; Renato Usatîi por Nuestro Partido (PN); Octavian Ticu por el Partido de Unidad Nacional (PUN); Tudor Deliu por el hoy residual PLDM; y Dorin Chirtoaca por el Movimiento Político Unión (MPU). \n",
              "<br/><br/>\n",
              "Durante la campaña electoral, la ex primera ministra acusó reiteradamente a su adversario socialista de socavar los esfuerzos por reformar el sistema de justicia criminal, sin lo cual Moldova no podría culminar su integración en la UE. También, reclamó un diálogo serio para solucionar definitivamente el conflicto transnistrio, lo que pasaba por la retirada de los 1.500 soldados rusos y su sustitución por una misión de observadores civiles, multinacional y con mandato de la OSCE. Dodon, apoyado explícitamente por el Kremlin, tachó a su oponente proeuropea de \"histérica\" y afirmó que su visión de la política exterior moldava era mucho más \"equilibrada\", al abogar por la \"amistad\" simultánea con la UE, Rusia, Rumanía y Ucrania. Eso sí, las actuales necesidades financieras de Moldova, señaló el presidente, tendrían una mejor satisfacción si se recurría a los préstamos de Rusia.  \n",
              "<br/><br/>\n",
              "El 1 de noviembre de 2020 Sandu se puso en cabeza con el 36,2% de los votos y pasó a disputar la segunda vuelta con Dodon, receptor del 32,6%. En el balotaje del 15 de noviembre la opositora se alzó con la victoria con el 57,7% de los sufragios. La presidenta electa recibió las felicitaciones de los líderes de la UE y de Ucrania, así como del presidente Putin. En sus primeras palabras a los medios, Sandu declaró que su presidencia permitiría \"asegurar un equilibrio real\" en la política exterior de Moldavia únicamente \"guiado por los intereses nacionales\", lo que pasaría por mantener un \"diálogo pragmático con todos los países, incluidos Rumanía, Ucrania, la UE, Rusia y Estados Unidos\".\n",
              "<br/><br/>\n",
              "Según su currículum oficial, Maia Sandu, además de su moldavo (rumano) nativo, del inglés aprendido en su juventud por motivos laborales y académicos, y del ruso, idioma que conoce la mayoría de la población moldava (si bien es lengua de uso diario solo para una minoría, fundamentalmente los rusos étnicos, concentrados en la región del Transdniéster), se maneja también en español. Como muchos ciudadanos de su país, la primera ministra posee la doble nacionalidad moldava y rumana.\n",
              "<br/><br/><i>(Cobertura informativa hasta 1/12/2020)</i></div></div>\n",
              "</section>\n",
              "</div>\n",
              "<div class=\"row\">\n",
              "<section class=\"col-md-12 col-sm-12 col-xs-12 main\">\n",
              "<h2 class=\"left-line-title\"><span>Más información</span></h2>\n",
              "<a href=\"https://gov.md/en  \">Gobierno de la República de Moldova</a>\n",
              "<div class=\"ezxmltext-field\"><?xml version=\"1.0\" encoding=\"utf-8\"?><section xmlns:custom=\"http://ez.no/namespaces/ezpublish3/custom/\" xmlns:image=\"http://ez.no/namespaces/ezpublish3/image/\" xmlns:xhtml=\"http://ez.no/namespaces/ezpublish3/xhtml/\"></section></div>\n",
              "<br/>\n",
              "<a href=\"https://www.facebook.com/maia.sandu/\">Maia Sandu en Facebook</a>\n",
              "<div class=\"ezxmltext-field\"><?xml version=\"1.0\" encoding=\"utf-8\"?><section xmlns:custom=\"http://ez.no/namespaces/ezpublish3/custom/\" xmlns:image=\"http://ez.no/namespaces/ezpublish3/image/\" xmlns:xhtml=\"http://ez.no/namespaces/ezpublish3/xhtml/\"></section></div>\n",
              "<br/>\n",
              "<a href=\"https://twitter.com/sandumaiamd\">Maia Sandu en Twitter</a>\n",
              "<div class=\"ezxmltext-field\"><?xml version=\"1.0\" encoding=\"utf-8\"?><section xmlns:custom=\"http://ez.no/namespaces/ezpublish3/custom/\" xmlns:image=\"http://ez.no/namespaces/ezpublish3/image/\" xmlns:xhtml=\"http://ez.no/namespaces/ezpublish3/xhtml/\"></section></div>\n",
              "<br/>\n",
              "<a href=\"https://www.youtube.com/results?search_query=maia+sandu\">Maia Sandu en YouTube</a>\n",
              "<div class=\"ezxmltext-field\"><?xml version=\"1.0\" encoding=\"utf-8\"?><section xmlns:custom=\"http://ez.no/namespaces/ezpublish3/custom/\" xmlns:image=\"http://ez.no/namespaces/ezpublish3/image/\" xmlns:xhtml=\"http://ez.no/namespaces/ezpublish3/xhtml/\"></section></div>\n",
              "<br/>\n",
              "<a href=\"https://www.instagram.com/maia.sandu/\">Maia Sandu en Instagram</a>\n",
              "<div class=\"ezxmltext-field\"><?xml version=\"1.0\" encoding=\"utf-8\"?><section xmlns:custom=\"http://ez.no/namespaces/ezpublish3/custom/\" xmlns:image=\"http://ez.no/namespaces/ezpublish3/image/\" xmlns:xhtml=\"http://ez.no/namespaces/ezpublish3/xhtml/\"></section></div>\n",
              "<br/>\n",
              "<a href=\"https://unpaspentru.md/\">Partido de Acción y Solidaridad (PAS)</a>\n",
              "<div class=\"ezxmltext-field\"><?xml version=\"1.0\" encoding=\"utf-8\"?><section xmlns:custom=\"http://ez.no/namespaces/ezpublish3/custom/\" xmlns:image=\"http://ez.no/namespaces/ezpublish3/image/\" xmlns:xhtml=\"http://ez.no/namespaces/ezpublish3/xhtml/\"></section></div>\n",
              "<br/>\n",
              "<a href=\"http://www.presedinte.md/\">Presidencia de la República de Moldova</a>\n",
              "<div class=\"ezxmltext-field\"><?xml version=\"1.0\" encoding=\"utf-8\"?><section xmlns:custom=\"http://ez.no/namespaces/ezpublish3/custom/\" xmlns:image=\"http://ez.no/namespaces/ezpublish3/image/\" xmlns:xhtml=\"http://ez.no/namespaces/ezpublish3/xhtml/\"></section></div>\n",
              "<br/>\n",
              "</section>\n",
              "</div>\n",
              "</div>\n",
              "<footer>\n",
              "<div class=\"pre-footer\">\n",
              "<div class=\"container\">\n",
              "</div>\n",
              "</div>\n",
              "<div class=\"image-bg\">\n",
              "<div class=\"footer-shadow\">\n",
              "<div class=\"container\">\n",
              "<div class=\"to-top\" title=\"Ir arriba\"><i class=\"fa fa-chevron-up\"></i></div>\n",
              "<div class=\"footer-links clearfix\">\n",
              "<div>\n",
              "<h4>Líneas estratégicas de investigación</h4>\n",
              "<ul>\n",
              "<li><a href=\"/es/lineas_estrategicas_de_investigacion/lineas_de_investigacion_geograficas/europa\" title=\"Europa\">Europa</a></li>\n",
              "<li><a href=\"/es/lineas_estrategicas_de_investigacion/lineas_de_investigacion_tematicas/geopolitica_global_y_seguridad\" title=\"Geopolítica global y seguridad\">Geopolítica global y seguridad</a></li>\n",
              "<li><a href=\"/es/lineas_estrategicas_de_investigacion/lineas_de_investigacion_tematicas/migraciones\" title=\"Migraciones\">Migraciones</a></li>\n",
              "<li><a href=\"/es/lineas_estrategicas_de_investigacion/lineas_de_investigacion_geograficas/el_gran_mediterraneo\" title=\"El gran Mediterráneo\">El gran Mediterráneo</a></li>\n",
              "<li><a href=\"/es/lineas_estrategicas_de_investigacion/lineas_de_investigacion_geograficas/america_latina_y_el_espacio_atlantico\" title=\"América Latina y el espacio atlántico\">América Latina y el espacio atlántico</a></li>\n",
              "<li><a href=\"/es/lineas_estrategicas_de_investigacion/lineas_de_investigacion_tematicas/ciudades_y_metropolis_globales\" title=\"Ciudades y metrópolis globales\">Ciudades y metrópolis globales</a></li>\n",
              "<li><a href=\"/es/lineas_estrategicas_de_investigacion/lineas_de_investigacion_tematicas/desarrollo_sostenible\" title=\"Desarrollo sostenible\">Desarrollo sostenible</a></li>\n",
              "<li><a href=\"/es/lineas_estrategicas_de_investigacion/lineas_de_investigacion_geograficas/otras_regiones_de_interes\" title=\"Otras regiones de interés\">Otras regiones de interés</a></li>\n",
              "</ul>\n",
              "</div>\n",
              "<div>\n",
              "<h4>Proyectos</h4>\n",
              "<ul>\n",
              "<li><a href=\"/es/proyectos/abierto/niem\" title=\"NIEM\">NIEM</a></li>\n",
              "<li><a href=\"/es/proyectos/abierto/eu_listco\" title=\"EU-LISTCO\">EU-LISTCO</a></li>\n",
              "<li><a href=\"/es/proyectos/abierto/cascades\" title=\"CASCADES\">CASCADES</a></li>\n",
              "<li><a href=\"/es/proyectos/abierto/facts\" title=\"FACTS\">FACTS</a></li>\n",
              "<li><a href=\"/es/proyectos/abierto/foro_europa_cuba_jean_monnet_network\" title=\" Foro Europa Cuba/ Jean Monnet Network\"> Foro Europa Cuba/ Jean Monnet Network</a></li>\n",
              "</ul>\n",
              "</div>\n",
              "<div>\n",
              "<h4>Prensa</h4>\n",
              "<ul>\n",
              "<li><a href=\"/es/prensa/eduard_soler_el_2021_pot_ser_un_any_en_que_hi_hagi_creixement_economic_pero_es_visqui_pitjor\" title=\"Eduard Soler: “El 2021 pot ser un any en què hi hagi creixement econòmic, però es visqui pitjor”\">Eduard Soler: “El 2021 pot ser un any en què hi hagi creixement econòmic, però es visqui pitjor”</a></li>\n",
              "<li><a href=\"/es/prensa/agenda_exterior_primaveras_arabes\" title=\"Agenda Exterior: primaveras árabes\">Agenda Exterior: primaveras árabes</a></li>\n",
              "<li><a href=\"/es/prensa/diez_anos_de_la_primavera_arabe_protestas_represion_y_una_nueva_ola_de_manifestaciones\" title=\"Diez años de la ‘primavera árabe’: protestas, represión y una nueva ola de manifestaciones\">Diez años de la ‘primavera árabe’: protestas, represión y una nueva ola de manifestaciones</a></li>\n",
              "<li><a href=\"/es/prensa/10_temas_que_marcaran_la_agenda_internacional_en_2021\" title=\"10 temas que marcarán la agenda internacional en 2021\">10 temas que marcarán la agenda internacional en 2021</a></li>\n",
              "<li><a href=\"/es/prensa/pol_morillas_la_capacidad_para_distribuir_la_vacuna_globalmente_marcara_hacia_donde_va_el_mundo_en_2021\" title=\"Pol Morillas: “La capacidad para distribuir la vacuna globalmente marcará hacia dónde va el mundo en 2021”\">Pol Morillas: “La capacidad para distribuir la vacuna globalmente marcará hacia dónde va el mundo en 2021”</a></li>\n",
              "</ul>\n",
              "</div>\n",
              "<div>\n",
              "<h4>Actividades</h4>\n",
              "<ul>\n",
              "<li><a href=\"/es/actividades/lineas_de_investigacion_tematicas/geopolitica_global_y_seguridad/war_peace_in_the_21st_century_conflict_dynamics_and_opportunities_for_cooperation_in_a_covid_19_world\" title=\"War &amp; Peace in the 21st Century: Conflict dynamics and opportunities for cooperation in a COVID-19 world \">War &amp; Peace in the 21st Century: Conflict dynamics and opportunities for cooperation in a COVID-19 world </a></li>\n",
              "</ul>\n",
              "</div>\n",
              "<div>\n",
              "<h4>Publicaciones</h4>\n",
              "<ul>\n",
              "<li><a href=\"/es/publicaciones/serie_de_publicacion/notes_internacionals_cidob/245/housing_in_the_digital_age_trends_and_implications\" title=\"Housing in the digital age: Trends and implications\">Housing in the digital age: Trends and implications</a></li>\n",
              "<li><a href=\"/es/publicaciones/serie_de_publicacion/revista_cidob_d_afers_internacionals/resurgimiento_de_la_derecha_en_america_latina_nuevas_coaliciones_y_agendas\" title=\"Resurgimiento de la derecha en América Latina: nuevas coaliciones y agendas\">Resurgimiento de la derecha en América Latina: nuevas coaliciones y agendas</a></li>\n",
              "<li><a href=\"/es/publicaciones/serie_de_publicacion/notes_internacionals_cidob/243/el_mundo_en_2021_diez_temas_que_marcaran_la_agenda_internacional\" title=\"El mundo en 2021: diez temas que marcarán la agenda internacional\">El mundo en 2021: diez temas que marcarán la agenda internacional</a></li>\n",
              "</ul>\n",
              "</div>\n",
              "<div>\n",
              "<h4>Noticias</h4>\n",
              "<ul>\n",
              "<li><a href=\"/es/noticias/lineas_de_investigacion_tematicas/cidob/cidob_busca_un_a_asistente_de_comunicacion_y_un_a_gestor_a_de_proyectos\" title=\"CIDOB busca un/a asistente de comunicación y un/a gestor/a de proyectos\">CIDOB busca un/a asistente de comunicación y un/a gestor/a de proyectos</a></li>\n",
              "<li><a href=\"/es/noticias/lineas_de_investigacion_tematicas/cidob/antoni_segura_reelegido_presidente_de_cidob\" title=\"Antoni Segura reelegido presidente de CIDOB\">Antoni Segura reelegido presidente de CIDOB</a></li>\n",
              "</ul>\n",
              "</div>\n",
              "<div>\n",
              "<h4>CIDOB</h4>\n",
              "<ul>\n",
              "<li><a href=\"/es/cidob/historia/josep_ribera_fundador_y_director_de_cidob_1973_2008\" title=\"Josep Ribera, fundador y director de CIDOB (1973-2008)\">Josep Ribera, fundador y director de CIDOB (1973-2008)</a></li>\n",
              "<li><a href=\"/es/cidob/financiacion/financiacion\" title=\"Financiación\">Financiación</a></li>\n",
              "<li><a href=\"/es/cidob/transparencia/informacion_economica_y_presupuestaria\" title=\"Información económica y presupuestaria\">Información económica y presupuestaria</a></li>\n",
              "<li><a href=\"/es/cidob/presentacion\" title=\"Presentación\">Presentación</a></li>\n",
              "<li><a href=\"/es/cidob/transparencia/presupuestos\" title=\"Presupuestos\">Presupuestos</a></li>\n",
              "<li><a href=\"/es/cidob/patronato\" title=\"Patronato\">Patronato</a></li>\n",
              "<li><a href=\"/es/cidob/equipo/equipo_de_trabajo/gabinete_de_direccion\" title=\"Gabinete de dirección\">Gabinete de dirección</a></li>\n",
              "<li><a href=\"/es/newsletter\" title=\"Newsletter\">Newsletter</a></li>\n",
              "</ul>\n",
              "</div>\n",
              "</div>\n",
              "<div class=\"footer-social\">\n",
              "<img alt=\"CIDOB\" class=\"logo\" src=\"/dass-2019041701/images/9d7b07a.png\"/>\n",
              "<ul class=\"social-boxes\">\n",
              "<li>\n",
              "<a href=\"https://www.facebook.com/CidobBarcelona\" title=\"CIDOB en Facebook\"><i class=\"fa fa-facebook\"></i><span>Facebook</span></a>\n",
              "</li>\n",
              "<li>\n",
              "<a href=\"https://twitter.com/CidobBarcelona\" title=\"CIDOB en Twitter\"><i class=\"fa fa-twitter\"></i><span>Twitter</span></a>\n",
              "</li>\n",
              "<li>\n",
              "<a href=\"https://www.youtube.com/channel/UCD71Ad1FcumiuTVMBousZ2w\" title=\"CIDOB en Youtube\"><i class=\"fa fa-youtube\"></i><span>Youtube</span></a>\n",
              "</li>\n",
              "<li>\n",
              "<a href=\"http://www.cidob.org/es/rss/feed/publications\" title=\"CIDOB en RSS\"><i class=\"fa fa-rss\"></i><span>RSS</span></a>\n",
              "</li>\n",
              "</ul>\n",
              "</div>\n",
              "<div class=\"footer-info\">\n",
              "<div class=\"apuntate\">\n",
              "<a href=\"/es/newsletter\" title=\"Apúntate a CIDOB NEWS!\">\n",
              "<span class=\"inner\">\n",
              "<img alt=\"envelope\" class=\"ico\" src=\"/dass-2019041701/images/1025d96.png\"/>\n",
              "<span class=\"f-line\">Apúntate a</span>\n",
              "<span class=\"s-line\">\n",
              "<img alt=\"envelope\" src=\"/dass-2019041701/images/24897d2.png\"/>\n",
              "<span>CIDOB</span> NEWS!</span>\n",
              "</span>\n",
              "</a>\n",
              "</div>\n",
              "<div class=\"telefono\">\n",
              "<p><span>93 302 6495</span> <i class=\"fa fa-phone-square\"></i></p>\n",
              "<p><a href=\"mailto:cidob@cidob.org\" title=\"Contacto CIDOB\">Contacto CIDOB</a> <i class=\"fa fa-envelope\"></i></p>\n",
              "</div>\n",
              "</div>\n",
              "</div>\n",
              "</div>\n",
              "</div>\n",
              "<div class=\"footer-bottom\">\n",
              "<div class=\"container\">\n",
              "<div class=\"copy\">\n",
              "<i class=\"fa fa-map-marker\"></i> Elisabets, 12 - 08001 Barcelona <span>- © 2014 Fundación CIDOB.</span>\n",
              "</div>\n",
              "<div class=\"menu\">\n",
              "<ul>\n",
              "<li><a href=\"/es/contacto\" title=\"Contacto\">Contacto</a></li>\n",
              "<li><a href=\"/es/mapa_del_sitio\" title=\"Mapa web\">Mapa web</a></li>\n",
              "<li><a href=\"/es/aviso_legal\" title=\"Aviso Legal\">Aviso Legal</a></li>\n",
              "</ul>\n",
              "</div>\n",
              "</div>\n",
              "</div>\n",
              "</footer>\n",
              "<div class=\"black-overlay\"></div>\n",
              "<script src=\"//ajax.googleapis.com/ajax/libs/jquery/1.11.0/jquery.min.js\"></script>\n",
              "<script>window.jQuery || document.write('<script src=\"js/vendor/jquery-1.11.0.min.js\"><\\/script>')</script>\n",
              "<!-- Google Analytics -->\n",
              "<script type=\"text/javascript\">\n",
              "    var gaJsHost = ((\"https:\" == document.location.protocol) ? \"https://ssl.\" : \"http://www.\");\n",
              "    document.write(unescape(\"%3Cscript src='\" + gaJsHost + \"google-analytics.com/ga.js' type='text/javascript'%3E%3C/script%3E\"));\n",
              "</script>\n",
              "<script type=\"text/javascript\">\n",
              "    try {\n",
              "        var pageTracker = _gat._getTracker(\"UA-2261764-1\");\n",
              "        pageTracker._trackPageview();\n",
              "    } catch(err) {}\n",
              "</script>\n",
              "<script src=\"/dass-2019041701/js/016f288.js\" type=\"text/javascript\"></script>\n",
              "<script>\n",
              "    $(document).ready(function() {\n",
              "        $.each(q, function (index, f) {\n",
              "            $(f);\n",
              "        });\n",
              "    });\n",
              "</script>\n",
              "</body>\n",
              "</html>"
            ]
          },
          "metadata": {
            "tags": []
          },
          "execution_count": 21
        }
      ]
    },
    {
      "cell_type": "markdown",
      "metadata": {
        "id": "jkUys2uwsgpF"
      },
      "source": [
        "###Final (Texto actualizado hasta diciembre 2020)"
      ]
    },
    {
      "cell_type": "code",
      "metadata": {
        "id": "hUnEnj-D1b2X"
      },
      "source": [
        "index = web_page.find_all(name=\"div\", attrs={\"class\": \"ezxmltext-field\"})"
      ],
      "execution_count": 24,
      "outputs": []
    },
    {
      "cell_type": "code",
      "metadata": {
        "colab": {
          "base_uri": "https://localhost:8080/",
          "height": 120
        },
        "id": "fslD_SgTxbJ_",
        "outputId": "c698d238-5ef5-4fda-c343-4a11647fd012"
      },
      "source": [
        "presentacion = index[0]\r\n",
        "presentacion.text.replace(\"\\n\", \"\")"
      ],
      "execution_count": 96,
      "outputs": [
        {
          "output_type": "execute_result",
          "data": {
            "application/vnd.google.colaboratory.intrinsic+json": {
              "type": "string"
            },
            "text/plain": [
              "'En 2016 en Moldova, Maia Sandu, candidata centrista y proeuropea del Partido de Acción y Solidaridad (PAS), contendió sin éxito en una bronca elección presidencial con  Igor Dodon, líder del izquierdista y prorruso Partido de los Socialistas de la República de Moldova (PSRM). Tres años después, en junio de 2019, ambos, ella como cabeza de la tercera fuerza del Parlamento, la alianza ACUM formada por el PAS y la Plataforma Dignidad y Verdad, y él como presidente de la República y líder de facto del partido más votado en los comicios de febrero, suspendieron su mutua malquerencia en aras de un Gobierno de coalición mayoritario y con Sandu de primera ministra. Su nombramiento generó una enrevesada trifulca, pronto solventada, entre partidos e instituciones, viviendo el país durante unos días una auténtica crisis constitucional. Sin embargo, el inesperado entendimiento entre Sandu y Dodon, nunca convincente, no tardó en saltar en pedazos: al cabo de cinco meses, los socialistas declararon rota la coalición, derribaron al Gobierno vía moción de censura y formaron un Ejecutivo monocolor encabezado por el independiente Ion Chicu. Sandu se resarció en las elecciones presidenciales a doble vuelta del 1 y 15 de noviembre de 2020, ganadas frente a Dodon y celebradas en clave de referéndum nacional sobre la orientación geopolítica de Moldova.El efímero Gabinete Sandu de 2019 supuso la clausura de una década de gobiernos de coalición, seis, integrados por los partidos del ala liberal de centro-derecha, de la que ella procedía. Las credenciales de estas agrupaciones eran intensamente europeístas, así como prorrumanas y anticomunistas, pero al mismo tiempo arrastraban un historial de delitos económicos, el desfalco de capital bancario, de enorme magnitud. Cuando asumió el puesto, esta antigua economista contratada por el Banco Mundial reconoció que su sorpresivo acuerdo con el PSRM y Dodon, partidarios de estrechar lazos con Rusia, no era una \"alianza natural\" y resultaba chocante por la lejanía ideológica, pero arguyó motivos prácticos, fundamentalmente el compromiso común de desterrar la corrupción de las altas esferas, acabar con la influencia perniciosa de los llamados oligarcas y regenerar la vida pública, plagada de escándalos, forcejeos e inestabilidad. Fue justamente un desacuerdo insalvable sobre las vías para el combate a la corrupción -en concreto, la propuesta por Sandu de un nuevo mecanismo para el nombramiento del fiscal general- el pretexto aducido por Dodon y los socialistas para finiquitar el experimento de la coalición con el bloque ACUM. La antigua república soviética de Moldova, encajonada entre Ucrania y Rumanía (cuyo idioma emplea la mayoría de la población) y territorialmente fracturada por la secesión de la rusófila República del Transdniéster (no reconocida pero soberana de facto desde la guerra civil de 1992), es el país menos desarrollado de Europa y participa en la Política Europea de Vecindad de la UE a través de un Acuerdo de Asociación, en vigor desde 2016, y el Partenariado Oriental. Sin embargo, las autoridades de Chisinau aún no han presentado la solicitud formal del ingreso en Bruselas, que periódicamente reclama más brío reformista en los terrenos de la lucha antifraude y la independencia del sistema judicial. En 2019 Sandu se presentaba como una opción puente entre dos bandos nacionales antagónicos que deseaba limar aristas, destensar la política moldava y ayudar a construir un Estado \"funcional\". Después de la \"traicionera\" defenestración de su Gabinete, su distanciamiento del socialismo prorruso, primera fuerza parlamentaria y en la que, afirma, \"ya no se puede confiar\", es mucho mayor.Como primera ministra, Sandu apostó por el pragmatismo en los tratos con Rusia, que había impuesto a la vulnerable Moldova penalizaciones comerciales y energéticas en castigo por su orientación estratégica proeuropea. Ahora, como presidenta, seguirá involucrada en la formulación de la política exterior, ya que las únicas atribuciones significativas de su cargo, de tipo ceremonial, se enmarcan precisamente en las relaciones internacionales. La mandataria electa ya ha recalcado que \"la UE es nuestro camino\", pero sostiene la necesidad de tener buenas relaciones con Rusia, a la que reclama de paso la retirada de sus 1.500 soldados acantonados en el Transdniéster. Su objetivo, en síntesis, es el \"diálogo pragmático con todos los países\". El 23 de diciembre Sandu relevará a Dodon en la Presidencia y tendrá que cohabitar con el Gobierno minoritario y \"tecnocrático\" del PSRM, el cual ha enfriado la cooperación con la UE y el FMI, y viene explorando la asistencia financiera y las inversiones alternativas de Rusia y Turquía mientras el país sufre el desplome económico derivado de la COVID-19.(Texto actualizado hasta diciembre 2020)'"
            ]
          },
          "metadata": {
            "tags": []
          },
          "execution_count": 96
        }
      ]
    },
    {
      "cell_type": "code",
      "metadata": {
        "colab": {
          "base_uri": "https://localhost:8080/",
          "height": 120
        },
        "id": "qUN_qRJbzEWb",
        "outputId": "22e06d98-0f80-4deb-825d-350be8546ef9"
      },
      "source": [
        "biografia = index[1]\r\n",
        "biografia.text.replace(\"\\n\", \"\")"
      ],
      "execution_count": 95,
      "outputs": [
        {
          "output_type": "execute_result",
          "data": {
            "application/vnd.google.colaboratory.intrinsic+json": {
              "type": "string"
            },
            "text/plain": [
              "'1. Una economista liberal decepcionada por la corrupción de la clase política moldava2. Candidata presidencial en 2016 enfrentada al socialista Dodon y primera ministra en 2019 en coalición con su partido3. Fallido experimento de gobierno revancha en las presidenciales de 20201. Una economista liberal decepcionada por la corrupción de la clase política moldava    Maia Sandu vivió el proceso histórico (1990-1992) de la soberanía y la independencia nacionales de su país a partir de la URSS siendo estudiante de Administración en la Academia de Estudios Económicos de Moldova (ASEM), centro universitario público de Chisinau. En 1994, con 22 años, entró a trabajar como consultora y funcionaria en el Ministerio de Economía, si bien continuó con su formación en las aulas de la Academia de Administración Pública (APA), que le otorgó un máster en Relaciones Internacionales en 1998. En la década siguiente, Sandu ejerció sucesivamente de economista en las oficinas del Banco Mundial en Moldova, directora general de Políticas Macroeconómicas y Programas de Desarrollo en el Ministerio de Economía, coordinadora de programas para el Programa de las Naciones Unidas para el Desarrollo (PNUD) y consultora del Gobierno para la reforma de la administración pública. En 2009 marchó a Estados Unidos con la idea de sacarse un máster en Administración Pública en la John F. Kennedy School of Government de Harvard y en 2010, una vez obtenido el título, volvió a trabajar para el Banco Mundial en calidad de consejera de las direcciones ejecutivas en la sede central del organismo en Washington, DC.En julio de 2012 Sandu retornó a Moldova para asumir su primer cometido gubernamental, el de ministra de Educación en el segundo Gobierno de coalición del primer ministro Vlad Filat, jefe del centroderechista Partido Liberal Democrático de Moldova (PLDM). La economista se dio de alta en el PLDM, formación que desde las elecciones legislativas de 2010 llevaba la voz cantante en el arco de partidos proeuropeos, si bien la primera fuerza del Parlamento en aquel momento era el prorruso Partido de los Comunistas de la República de Moldova (PCRM), liderado por el anterior presidente de la República Vladimir Voronin. El PLDM conducía en aquellos momentos la Alianza por la Integración Europea, de la que también formaban parte el Partido Democrático de Moldova (PDM) y el Partido Liberal (PL).Sandu retuvo su cartera ministerial en los dos gobiernos de coalición que siguieron a la caída del Gabinete Filat -al perder una moción de censura de los comunistas como consecuencia de la ruptura de la Alianza por la Integración Europea- en marzo de 2013, el de Iurie Leanca y, desde febrero de 2015, el de Chiril Gaburici, personalidades ambas del PLDM. Prolongando la secuencia de inestabilidad gubernamental, el primer ministro Gaburici dimitió en junio de 2015 y el 30 de julio el también liberaldemócrata Valeriu Strelet alineó un ejecutivo tripartito que ya no contó con Sandu. De hecho, el PLDM ofreció a Sandu ser la candidata del oficialismo para suceder a Gaburici, reemplazado en funciones por Natalia Gherman, pero ella estableció unas condiciones que no fueron admitidas por el líder del partido, Filat.En diciembre de 2015, hastiada del tropel de turbulencias políticas y escándalos de corrupción protagonizados por las agrupaciones que se llamaban a sí mismas anticomunistas y proeuropeas, y en particular impactada por la caída en desgracia de su superior partidario, el anterior primer ministro Filat, despojado de la inmunidad parlamentaria, detenido y llevado a juicio bajo la acusación de orquestar un gigantesco desfalco bancario, la ex ministra rompió con el PLDM y puso en marcha una plataforma personal de signo opositor que el 15 de mayo de 2016, funcionando el Gobierno del primer ministro Pavel Filip, al frente de una nueva coalición PLDM-PDM-PL, se organizó como Partido de Acción y Solidaridad (PAS). Con Sandu de presidenta e Igor Grosu de secretario general, el PAS se presentó a la opinión pública como un partido de centro-derecha identificado con el liberalismo social y de firmes convicciones europeístas. No obstante su definición liberal, Sandu solicitó y obtuvo la incorporación del PAS al Partido Popular Europeo (PPE). El común discurso del rechazo tajante a la corrupción que desacreditaba a las élites políticas moldavas y manchaba la reputación internacional del país aproximó a Sandu a la Plataforma Dignidad y Verdad (PPDA o DA). Este partido acababa de ser fundado por el activista y antiguo fiscal Andrei Nastase al calor de las multitudinarias manifestaciones cívicas, las mayores desde la independencia en 1991, en protesta por el deterioro de las condiciones económicas, la influencia desmesurada de los llamados \"oligarcas\", magnates de la empresa y las finanzas enriquecidos turbiamente, y el latrocinio de capitales por conocidos rostros de la política.2. Candidata presidencial en 2016 enfrentada al socialista Dodon y primera ministra en 2019 en coalición con su partido    Sandu se inscribió para las elecciones presidenciales de octubre de 2016, de las que debía salir el sucesor del jefe del Estado desde 2012, el independiente Nicolae Timofti. La liberal tenía varios contrincantes, el más potente de los cuales era el izquierdista Igor Dodon, líder del Partido de los Socialistas de la República de Moldova (PSRM), ganador con mayoría simple de las votaciones legislativas de 2014. Arguyendo la necesidad de preservar la neutralidad del país en política exterior, Dodon, anterior militante comunista, se mostraba dispuesto a frenar la orientación proeuropea de Moldova en favor de un acercamiento a Rusia, de cuyo presidente, Vladímir Putin, era admirador confeso. Aunque ideológicamente contrapuestos, uno y otra coincidían en prometer el fortalecimiento de las instituciones republicanas, el combate a la corrupción, la investigación a fondo, cayera quien cayera, del saqueo en 2014 de casi 1.000 millones de dólares de fondos bancarios puestos bajo la supervisión del Estado, el aumento de las partidas del gasto social y la reversión de la crisis económica que azotaba al país menos desarrollado de Europa. Ciertamente, ambos se situaban en la oposición al Gobierno Filip. Sin embargo, Sandu y Dodon libraron una campaña áspera, en la que se lanzaron mutuamente trapos sucios sobre presuntas venalidades y connivencias furtivas con potencias extranjeras, Rusia en el caso de él, Estados Unidos y Rumania en el caso de ella.Las perspectivas de Sandu parecieron cobrar brío en las dos últimas semanas de la campaña al anunciar dos candidatos relevantes, Andrei Nastase, el líder del DA, y Marian Lupu, el jefe nominal del PDM y supuesto \"títere\" del oligarca Vlad Plahotniuc, su retirada de la competición y su apoyo a la ex ministra de Educación, que ya disponía de los respaldos del Partido Liberal Reformador (PLR), el Partido Verde Ecologista (PVE) y su anterior colectividad, el PLDM, ahora conducido por Viorel Cibotaru, quien proclamaba una ruptura total con la era Filat. Ahora bien, los avales del PDM y el PLDM, dos partidos en la picota a causa de la corrupción, tanto podían aportar a Sandu votantes como retraerlos.Sin embargo, el 30 de octubre de 2016 Dodon se puso en cabeza con un potente 48% de los votos; por poco, el socialista no se proclamó presidente en la primera vuelta. Sandu, receptora del 38,7% de los sufragios, pasó a disputar con él el balotaje. Eliminados quedaron Dumitru Ciubasenco de Nuestro Partido (PN, izquierda populista prorrusa), el ex primer ministro Iurie Leanca por el Partido Popular Europeo de Moldova (PPEM) y Mihai Ghimpu del PL, único de los tres partidos del Gobierno que concurría con un candidato. La segunda vuelta tuvo lugar el 13 de noviembre y para Sandu se saldó con la derrota definitiva con el 47,9% de los votos.Elecciones legislativas y crisis constitucionalEl 16 de diciembre de 2018 Sandu y Nastase lanzaron el bloque electoral y \"movimiento de resistencia\" Ahora (ACUM) entre el DA y el PAS. Era su respuesta a la invalidación judicial del triunfo de Nastase en las elecciones a alcalde de Chisinau, pero también su apuesta para enfrentarse al PSRM, presidido por la ex primera ministra Zinaida Greceanîi, y al PDM del polémico Vladimir Plahotniuc en las elecciones legislativas del 24 de febrero de 2019. Al bloque ACUM se adhirieron el PLDM de Deliu Tudor, cuyas perspectivas electorales eran mínimas, y el nuevo Partido de Unidad Nacional (PUN) de Anatol Salaru.En los comicios, el ACUM DA-PAS fue la segunda lista más votada con el 26,8% de los votos, a la zaga del recrecido PSRM de Greceanîi y Dodon, pero, debido a las particularidades del sistema electoral, recibió menos escaños, 26, que el PDM, el cual también subió con fuerza. Tanto las ganancias obtenidas por socialistas y demócratas como el vigoroso debut del tándem Sandu-Nastase se nutrían de los hundimientos totales del viejo PCRM y del PL, amén de la virtual desaparición del PLDM, reducido a la condición de mera muletilla del PAS. Para Sandu, por de pronto, las elecciones supusieron su regreso al Parlamento, del que ya había sido miembro brevemente, con el PLDM, entre las elecciones de noviembre de 2014 y su confirmación como ministra de Educación en el Gobierno Gaburici en febrero de 2015.Las conversaciones para la formación del nuevo Ejecutivo no tardaron en quedar empantanadas por las diferencias aparentemente insolubles entre tres partidos que durante la campaña electoral habían dado cancha a su mutua hostilidad. La postura más intransigente recayó en Sandu, quien rechazó sendas ofertas de coalición del PSRM y el PDM. De acuerdo con la Constitución, si el Parlamento no era capaz de materializar un gobierno en los tres meses transcurridos desde la certificación de los resultados electorales, el presidente de la República estaba facultado para declarar fallida la legislatura y convocar nuevas elecciones. Puesto que la certificación de las elecciones de febrero la había hecho el Tribunal Constitucional el 9 de marzo, se entendía que la fecha límite para instalar el nuevo Gabinete era el 9 de junio.Sin embargo, dos jornadas antes, el 7 de junio, el Tribunal Constitucional, en un auto sorpresa, estableció que el plazo legal de los 90 días expiraba aquel mismo día y, por lo tanto, daba al presidente la orden de proceder con la convocatoria electoral. Dodon, de hecho, ya había avisado semanas atrás que si los partidos no se ponían de acuerdo para alinear un Gabinete de mayoría, él no tendría más remedio que disolver el Parlamento y llamar a elecciones.El 8 de junio llegó un segundo sobresalto: el PSRM y el ACUM comunicaron que habían alcanzado un acuerdo exprés para instalar un Gobierno de coalición fundado en una mayoría absoluta de 61 diputados y con Sandu de primera ministra. De inmediato, el Tribunal Constitucional declaró ilegal la designación de Sandu, pero Dodon ignoró a la corte y emitió el nombramiento oficial del Gobierno, que se consideró instalado ese mismo día. A Sandu la flanqueaban dos viceprimeros ministros, su aliado Nastase y Vasilii Sova por el PSRM. De la decena de ministros, dos correspondían al PAS, incluido el de Finanzas, dos al DA, incluido el de Interior (el propio Nastase) y uno, el de Defensa, al PSRM, quedando las restantes cinco carteras, entre ellas la de Exteriores, para personas independientes.El conflicto entre instituciones y partidos devino una crisis constitucional en toda regla. El 9 de junio, mientras el PDM de Plahotniuc y Filip, en teoría primer ministro saliente, acusaban a sus adversarios de violar la ley flagrantemente y de detentar el poder de manera \"ilegítima\" con el único propósito de \"entregar\" el país a los rusos, y Dodon acusaba su vez al PDM de aferrarse al poder para seguir \"controlando\" las instituciones del Estado a su antojo, el Tribunal Constitucional declaró que el nombramiento del Gobierno Sandu era ilegal y dispuso la transferencia temporal de las funciones del presidente de la República al primer ministro Filip, el cual, al punto, firmó un decreto de disolución del Parlamento y de convocatoria de elecciones para el 6 de septiembre. La UE, inquieta por el curso de los acontecimientos en Moldova, miembro del Partenariado Oriental y con la que tenía suscrito un Acuerdo de Asociación, envió a Chisinau un llamamiento a la \"calma\", la \"contención\" y el \"diálogo\" para solucionar la crisis.El 11 de junio Dodon contraatacó anulando el decreto de Filip, quien el día 14 desistió presentando la dimisión. El 15 de junio el grave forcejeo institucional llegó a su fin con la retractación del Tribunal Constitucional, que revocó su declaración de ilegalidad del día 9. Sandu, primera ministra ya a todos los efectos y sin lugar a dudas, salió a declarar que consideraba \"sincera\" la aceptación por el PDM de su \"derrota\", pero no dejó de reclamar la dimisión de los magistrados del Tribunal Constitucional. Asimismo, reconoció que su sorpresivo entendimiento con el prorruso PSRM no era una \"alianza natural\", pero que en estos momentos lo más importante era dotar a la inestable Moldova de un Gobierno sólido y dispuesto a dar pasos decisivos para erradicar la corrupción en las altas instancias y acometer las reformas estructurales que fueran necesarias. 3. Fallido experimento de gobierno y revancha en las presidenciales de 2020    El nuevo Gobierno Sandu se apresuró a reformular la política exterior con un enfoque más pragmático de las espinosas relaciones ruso-moldavas. Con Rusia, la primera ministra deseaba abordar la cancelación de las restricciones comerciales, impuestas por Moscú a Chisinau en castigo por su orientación estratégica prooccidental, y la garantía de los vitales suministros energéticos. También, contemplaba el escenario, altamente improbable en las actuales circunstancias, de la retirada de las tropas rusas de la región secesionista rusófona del Transdniéster, 1.500 soldados estacionados allí desde la guerra civil de 1992 y con una doble misión oficial, custodiar depósitos de armas y realizar labores de interposición y pacificación. Sandu planteaba al Gobierno ruso una normalización de las relaciones bilaterales, pero sin sacrificar el curso proeuropeo de Moldova. Además, descartaba una federalización del país, punto que para la autoproclamada República Moldava Pridnestroviana constituía la mínima base de negociación de un arreglo de este conflicto congelado del espacio postsoviético. El Gobierno transnistrio de Tiráspol ejercía una autoridad soberana de facto sobre la estrecha franja de territorio de poco más de 4.000 km2 que delimitaban el río Dniéster al oeste y la frontera ucraniana al este.Como paso preliminar, Sandu anunció el levantamiento de la prohibición impuesta en marzo de 2017 por Pavel Filip de los viajes oficiales a Rusia por miembros del Gobierno moldavo. El último desplazamiento de estas características había sido el realizado en 2012 por el entonces primer ministro, Vlad Filat. Sandu tenía prisa por reactivar los contactos entre gobiernos y sopesaba el viaje personal a Moscú para conseguir la despenalización de las exportaciones moldavas, un contrato de compra de gas ruso a precios asequibles y, si era posible, un calendario para la repatriación de tropas del Transdniéster, pero antes visitó Bucarest, Bruselas y Kíev. El 16 de julio, desde Berlín, la primera ministra informó que había recibido del Gobierno ruso una invitación para encontrarse con su homólogo Dmitri Medvédev en el Kremlin. El viaje oficial a Rusia quedó programado para septiembre, pero supuestos problemas de agenda obligaron a posponerlo sine díe. A cambio, Sandu se desplazó a Estados Unidos, donde no se reunió ni con el presidente Donald Trump ni con el secretario de Estado Mike Pompeo, sino únicamente con los dos congresistas al frente del Grupo de Apoyo Político del Congreso de Estados Unidos a la República de Moldova.Al final, los ambiciosos planes de Sandu con respecto a Rusia, y con ellos el resto de su programa político, iban a quedar frustrados porque su Gobierno se vino abajo en un tiempo récord. La voladura del acuerdo del 8 de junio entre el ACUM y el PRSM la activó este último, que, no debía olvidarse, era el primer partido del Parlamento.La falta de sintonía entre Sandu y Dodon, tan dispares ideológicamente, era un hecho evidente desde el principio, pero el primer encontronazo serio llegó a mediados de agosto de 2019, cuando la primera ministra preparó un decreto para que la celebración nacional cada 24 de agosto de la victoria del Ejército Rojo sobre Alemania en 1944, el denominado Día de la Liberación de la Ocupación Fascista, se asimilara al Día Europeo de Conmemoración de las Víctimas del Estalinismo y el Nazismo, observado en la UE el 23 de agosto. De inmediato, el presidente rechazó la propuesta de la primera ministra y dejó claro que la festividad del 24 de agosto, en la que el jefe del Estado adquiría un protagonismo especial, tendría lugar con el formato habitual.Llegado el otoño, las fricciones se agravaron debido a otra iniciativa unilateral de Sandu, quien puso sobre la mesa una modificación de los trámites para el nombramiento del titular de la Fiscalía General de la República. A fin de cubrir la vacancia abierta por el final del mandato de Eduard Harunjen, para el que el Ministerio de Justicia no conseguía encontrar sucesor, Sandu propuso que el alto funcionario fuera seleccionado de entre un ramillete de candidatos propuestos por ella misma. Se trataba, defendía la gobernante, de una reforma exprés imprescindible, en línea con lo demandado desde la UE, a fin de asegurar que el fiscal general fuera un profesional \"independiente e insobornable\" y que el Ministerio Público pudiera ejercer sus funciones en la lucha anticorrupción con la mayor eficacia.El PSRM exigió la retirada de la reforma \"inconstitucional\", pero Sandu se reafirmó. La respuesta del partido que en nombre de Dodon mandaba Zinaida Greceanîi, a la sazón presidenta del Parlamento, fue expeditiva: declarar rota la coalición con el ACUM y lanzar una moción de censura contra el Gobierno del que era miembro con el único objeto de defenestrar a Sandu. Desde la oposición, el PDM, ahora liderado por Pavel Filip en lugar de Vladimir Plahotniuc (prófugo de la justicia, exiliado en Turquía y al que Sandu quería ver rindiendo cuentas penales en Moldova), anunció su respaldo al PSRM. La censura parlamentaria salió adelante el 12 de noviembre con el resultado cantado de 63 votos a favor. El Gobierno Sandu había sucumbido con tan solo cinco meses de ejercicio. Sin perder un minuto, Dodon nominó primer ministro a Ion Chicu, ex ministro de Finanzas no afiliado pero muy cercano a los socialistas, tratándose de hecho de un asesor adjunto a la Presidencia. Al día siguiente echó a andar el nuevo Gabinete minoritario de Chicu, nutrido con un par de miembros del PSRM y fundamentalmente por tecnócratas que sobre el papel eran independientes, aunque en su mayor parte se trataba de personas próximas al grupo de Greceanîi y el entorno presidencial. La Comisión Europea valoró que el súbito cambio de guardia en Moldova enviaba \"señales preocupantes para el proceso de reformas en el país\". Sandu no se mordió la lengua y calificó la moción de censura del PSRM de \"traición\" a un equipo de Gobierno dedicado a \"defender los intereses del pueblo\", traición que había triunfado con la ayuda de \"algunos ladrones del Parlamento\" que intentaban \"resistirse a las reformas en Moldavia\". En cuanto al previsto viaje oficial de Sandu a Moscú, fue Chicu el que lo realizó en el mes de noviembre, dejando patente las simpatías prorrusas del nuevo Ejecutivo. Por lo demás, el Gobierno Chicu iba a quedar reforzado el 16 de marzo de 2020 con la incorporación de ministros del PDM, pero este partido regresaría a la oposición el 7 de noviembre siguiente. Arrojada a la oposición, la líder del PAS se dispuso a preparar su contraataque político, que tendría lugar pronto, en las elecciones presidenciales previstas para dentro exactamente de un año. El 18 de julio de 2020, con el país sumido en la pandemia COVID-19 y en proceso de dejar atrás las restricciones más severas de la cuarentena nacional para contener el coronavirus (desde el 15 de mayo regía la situación de emergencia de salud pública, en lugar del estado de emergencia declarado el 17 de marzo), Sandu lanzó su candidatura presidencial. La misma recabó la adhesión de Pro Moldova, el nuevo partido liberal europeísta fundado por el ex presidente del Parlamento Andrian Candu, escindido del PDM, pero no de la DA de Andrei Năstase, el anterior aliado del ya caducado ACUM, quien optó por concurrir por su cuenta. Los otros contrincantes de Sandu iban a ser: Dodon, aspirante a la reelección por el PSRM; Violeta Ivanov por el Movimiento Socio-Político Republicano Igualdad, más conocido como el Partido Sor; Renato Usatîi por Nuestro Partido (PN); Octavian Ticu por el Partido de Unidad Nacional (PUN); Tudor Deliu por el hoy residual PLDM; y Dorin Chirtoaca por el Movimiento Político Unión (MPU). Durante la campaña electoral, la ex primera ministra acusó reiteradamente a su adversario socialista de socavar los esfuerzos por reformar el sistema de justicia criminal, sin lo cual Moldova no podría culminar su integración en la UE. También, reclamó un diálogo serio para solucionar definitivamente el conflicto transnistrio, lo que pasaba por la retirada de los 1.500 soldados rusos y su sustitución por una misión de observadores civiles, multinacional y con mandato de la OSCE. Dodon, apoyado explícitamente por el Kremlin, tachó a su oponente proeuropea de \"histérica\" y afirmó que su visión de la política exterior moldava era mucho más \"equilibrada\", al abogar por la \"amistad\" simultánea con la UE, Rusia, Rumanía y Ucrania. Eso sí, las actuales necesidades financieras de Moldova, señaló el presidente, tendrían una mejor satisfacción si se recurría a los préstamos de Rusia.  El 1 de noviembre de 2020 Sandu se puso en cabeza con el 36,2% de los votos y pasó a disputar la segunda vuelta con Dodon, receptor del 32,6%. En el balotaje del 15 de noviembre la opositora se alzó con la victoria con el 57,7% de los sufragios. La presidenta electa recibió las felicitaciones de los líderes de la UE y de Ucrania, así como del presidente Putin. En sus primeras palabras a los medios, Sandu declaró que su presidencia permitiría \"asegurar un equilibrio real\" en la política exterior de Moldavia únicamente \"guiado por los intereses nacionales\", lo que pasaría por mantener un \"diálogo pragmático con todos los países, incluidos Rumanía, Ucrania, la UE, Rusia y Estados Unidos\".Según su currículum oficial, Maia Sandu, además de su moldavo (rumano) nativo, del inglés aprendido en su juventud por motivos laborales y académicos, y del ruso, idioma que conoce la mayoría de la población moldava (si bien es lengua de uso diario solo para una minoría, fundamentalmente los rusos étnicos, concentrados en la región del Transdniéster), se maneja también en español. Como muchos ciudadanos de su país, la primera ministra posee la doble nacionalidad moldava y rumana.(Cobertura informativa hasta 1/12/2020)'"
            ]
          },
          "metadata": {
            "tags": []
          },
          "execution_count": 95
        }
      ]
    },
    {
      "cell_type": "code",
      "metadata": {
        "colab": {
          "base_uri": "https://localhost:8080/",
          "height": 35
        },
        "id": "FnIpRCfT26Ki",
        "outputId": "378979a5-3020-4f12-c3d8-44dc6acb2942"
      },
      "source": [
        "import re\r\n",
        "\r\n",
        "twitter = web_page.find(name=\"a\", attrs={\"href\": re.compile(\"https://twitter.com/+\")})\r\n",
        "twitter[\"href\"]\r\n"
      ],
      "execution_count": 94,
      "outputs": [
        {
          "output_type": "execute_result",
          "data": {
            "application/vnd.google.colaboratory.intrinsic+json": {
              "type": "string"
            },
            "text/plain": [
              "'https://twitter.com/sandumaiamd'"
            ]
          },
          "metadata": {
            "tags": []
          },
          "execution_count": 94
        }
      ]
    },
    {
      "cell_type": "code",
      "metadata": {
        "colab": {
          "base_uri": "https://localhost:8080/",
          "height": 35
        },
        "id": "s527tacp9-uT",
        "outputId": "29043135-abfe-4c83-866f-f4a232668099"
      },
      "source": [
        "import re\r\n",
        "\r\n",
        "facebook = web_page.find(name=\"a\", attrs={\"href\": re.compile(\"https://www.facebook.com/+\")})\r\n",
        "facebook[\"href\"]"
      ],
      "execution_count": 93,
      "outputs": [
        {
          "output_type": "execute_result",
          "data": {
            "application/vnd.google.colaboratory.intrinsic+json": {
              "type": "string"
            },
            "text/plain": [
              "'https://www.facebook.com/maia.sandu/'"
            ]
          },
          "metadata": {
            "tags": []
          },
          "execution_count": 93
        }
      ]
    },
    {
      "cell_type": "code",
      "metadata": {
        "colab": {
          "base_uri": "https://localhost:8080/",
          "height": 35
        },
        "id": "ULcSR_kk_HHF",
        "outputId": "1561fdaf-20db-4cce-baf3-eab3060094c0"
      },
      "source": [
        "import re\r\n",
        "\r\n",
        "youtube = web_page.find(name=\"a\", attrs={\"href\": re.compile(\"https://www.youtube.com/+\")})\r\n",
        "youtube[\"href\"]"
      ],
      "execution_count": 92,
      "outputs": [
        {
          "output_type": "execute_result",
          "data": {
            "application/vnd.google.colaboratory.intrinsic+json": {
              "type": "string"
            },
            "text/plain": [
              "'https://www.youtube.com/results?search_query=maia+sandu'"
            ]
          },
          "metadata": {
            "tags": []
          },
          "execution_count": 92
        }
      ]
    },
    {
      "cell_type": "code",
      "metadata": {
        "colab": {
          "base_uri": "https://localhost:8080/",
          "height": 35
        },
        "id": "Yk3opsM9_Zya",
        "outputId": "9728135e-86df-4b48-9a78-9292b57de385"
      },
      "source": [
        "import re\r\n",
        "\r\n",
        "instagram = web_page.find(name=\"a\", attrs={\"href\": re.compile(\"https://www.instagram.com/+\")})\r\n",
        "instagram[\"href\"]"
      ],
      "execution_count": 91,
      "outputs": [
        {
          "output_type": "execute_result",
          "data": {
            "application/vnd.google.colaboratory.intrinsic+json": {
              "type": "string"
            },
            "text/plain": [
              "'https://www.instagram.com/maia.sandu/'"
            ]
          },
          "metadata": {
            "tags": []
          },
          "execution_count": 91
        }
      ]
    }
  ]
}