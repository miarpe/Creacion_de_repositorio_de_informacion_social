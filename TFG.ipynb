{
  "nbformat": 4,
  "nbformat_minor": 0,
  "metadata": {
    "colab": {
      "name": "TFG.ipynb",
      "provenance": [],
      "toc_visible": true,
      "authorship_tag": "ABX9TyNf5ZQo2nJQ3blnze4dxcaY",
      "include_colab_link": true
    },
    "kernelspec": {
      "name": "python3",
      "display_name": "Python 3"
    }
  },
  "cells": [
    {
      "cell_type": "markdown",
      "metadata": {
        "id": "view-in-github",
        "colab_type": "text"
      },
      "source": [
        "<a href=\"https://colab.research.google.com/github/miarpe/TFG/blob/main/TFG.ipynb\" target=\"_parent\"><img src=\"https://colab.research.google.com/assets/colab-badge.svg\" alt=\"Open In Colab\"/></a>"
      ]
    },
    {
      "cell_type": "markdown",
      "metadata": {
        "id": "cVz_HO0rfSiP"
      },
      "source": [
        "#TFG"
      ]
    },
    {
      "cell_type": "markdown",
      "metadata": {
        "id": "LNegYKaLfXqn"
      },
      "source": [
        "##Web Scraping"
      ]
    },
    {
      "cell_type": "markdown",
      "metadata": {
        "id": "k8au_nLxDIlB"
      },
      "source": [
        "###Dudas\r\n",
        "Sólo los líderes europeos??\r\n",
        "Recorrerlo y coger cada politico https://www.cidob.org/biografias_lideres_politicos/europa"
      ]
    },
    {
      "cell_type": "code",
      "metadata": {
        "colab": {
          "base_uri": "https://localhost:8080/"
        },
        "id": "mfjmBVC4lDfq",
        "outputId": "bca2b266-6d90-405c-9a45-afe21fa705f6"
      },
      "source": [
        "!pip install requests\r\n",
        "\r\n"
      ],
      "execution_count": 2,
      "outputs": [
        {
          "output_type": "stream",
          "text": [
            "Requirement already satisfied: requests in /usr/local/lib/python3.6/dist-packages (2.23.0)\n",
            "Requirement already satisfied: certifi>=2017.4.17 in /usr/local/lib/python3.6/dist-packages (from requests) (2020.12.5)\n",
            "Requirement already satisfied: urllib3!=1.25.0,!=1.25.1,<1.26,>=1.21.1 in /usr/local/lib/python3.6/dist-packages (from requests) (1.24.3)\n",
            "Requirement already satisfied: idna<3,>=2.5 in /usr/local/lib/python3.6/dist-packages (from requests) (2.10)\n",
            "Requirement already satisfied: chardet<4,>=3.0.2 in /usr/local/lib/python3.6/dist-packages (from requests) (3.0.4)\n"
          ],
          "name": "stdout"
        }
      ]
    },
    {
      "cell_type": "code",
      "metadata": {
        "colab": {
          "base_uri": "https://localhost:8080/"
        },
        "id": "__t9nff3pJHn",
        "outputId": "c3694195-b74e-4ed9-f8ea-8403b71c4caf"
      },
      "source": [
        "!pip install beautifulsoup4"
      ],
      "execution_count": 3,
      "outputs": [
        {
          "output_type": "stream",
          "text": [
            "Requirement already satisfied: beautifulsoup4 in /usr/local/lib/python3.6/dist-packages (4.6.3)\n"
          ],
          "name": "stdout"
        }
      ]
    },
    {
      "cell_type": "code",
      "metadata": {
        "id": "qHB8ufmKpPuR"
      },
      "source": [
        "import numpy as np\r\n",
        "import pandas as pd\r\n",
        "import requests\r\n",
        "import bs4\r\n",
        "import lxml.etree as xml"
      ],
      "execution_count": 4,
      "outputs": []
    },
    {
      "cell_type": "code",
      "metadata": {
        "colab": {
          "base_uri": "https://localhost:8080/"
        },
        "id": "Pj5gftnRpTFs",
        "outputId": "4e842e3e-2353-4d20-ca3b-8dc0a0a9af34"
      },
      "source": [
        "URL = \"https://www.cidob.org/biografias_lideres_politicos/europa/moldova/maia_sandu\"\r\n",
        "\r\n",
        "requests.get(URL)"
      ],
      "execution_count": 5,
      "outputs": [
        {
          "output_type": "execute_result",
          "data": {
            "text/plain": [
              "<Response [200]>"
            ]
          },
          "metadata": {
            "tags": []
          },
          "execution_count": 5
        }
      ]
    },
    {
      "cell_type": "code",
      "metadata": {
        "id": "vCuqVVpqpmSi"
      },
      "source": [
        "web_page = bs4.BeautifulSoup(requests.get(URL, {}).text, \"lxml\")\r\n",
        "web_page"
      ],
      "execution_count": null,
      "outputs": []
    },
    {
      "cell_type": "markdown",
      "metadata": {
        "id": "JfIL_49SDD6E"
      },
      "source": [
        "###Final (Texto actualizado hasta diciembre 2020)??"
      ]
    },
    {
      "cell_type": "code",
      "metadata": {
        "id": "hUnEnj-D1b2X"
      },
      "source": [
        "index = web_page.find_all(name=\"div\", attrs={\"class\": \"ezxmltext-field\"})"
      ],
      "execution_count": 7,
      "outputs": []
    },
    {
      "cell_type": "code",
      "metadata": {
        "colab": {
          "base_uri": "https://localhost:8080/",
          "height": 120
        },
        "id": "fslD_SgTxbJ_",
        "outputId": "cc84d53f-1ac5-4acb-f453-ad8cc01b1513"
      },
      "source": [
        "presentacion = index[0]\r\n",
        "presentacion.text.replace(\"\\n\", \"\")"
      ],
      "execution_count": 8,
      "outputs": [
        {
          "output_type": "execute_result",
          "data": {
            "application/vnd.google.colaboratory.intrinsic+json": {
              "type": "string"
            },
            "text/plain": [
              "'En 2016 en Moldova, Maia Sandu, candidata centrista y proeuropea del Partido de Acción y Solidaridad (PAS), contendió sin éxito en una bronca elección presidencial con  Igor Dodon, líder del izquierdista y prorruso Partido de los Socialistas de la República de Moldova (PSRM). Tres años después, en junio de 2019, ambos, ella como cabeza de la tercera fuerza del Parlamento, la alianza ACUM formada por el PAS y la Plataforma Dignidad y Verdad, y él como presidente de la República y líder de facto del partido más votado en los comicios de febrero, suspendieron su mutua malquerencia en aras de un Gobierno de coalición mayoritario y con Sandu de primera ministra. Su nombramiento generó una enrevesada trifulca, pronto solventada, entre partidos e instituciones, viviendo el país durante unos días una auténtica crisis constitucional. Sin embargo, el inesperado entendimiento entre Sandu y Dodon, nunca convincente, no tardó en saltar en pedazos: al cabo de cinco meses, los socialistas declararon rota la coalición, derribaron al Gobierno vía moción de censura y formaron un Ejecutivo monocolor encabezado por el independiente Ion Chicu. Sandu se resarció en las elecciones presidenciales a doble vuelta del 1 y 15 de noviembre de 2020, ganadas frente a Dodon y celebradas en clave de referéndum nacional sobre la orientación geopolítica de Moldova.El efímero Gabinete Sandu de 2019 supuso la clausura de una década de gobiernos de coalición, seis, integrados por los partidos del ala liberal de centro-derecha, de la que ella procedía. Las credenciales de estas agrupaciones eran intensamente europeístas, así como prorrumanas y anticomunistas, pero al mismo tiempo arrastraban un historial de delitos económicos, el desfalco de capital bancario, de enorme magnitud. Cuando asumió el puesto, esta antigua economista contratada por el Banco Mundial reconoció que su sorpresivo acuerdo con el PSRM y Dodon, partidarios de estrechar lazos con Rusia, no era una \"alianza natural\" y resultaba chocante por la lejanía ideológica, pero arguyó motivos prácticos, fundamentalmente el compromiso común de desterrar la corrupción de las altas esferas, acabar con la influencia perniciosa de los llamados oligarcas y regenerar la vida pública, plagada de escándalos, forcejeos e inestabilidad. Fue justamente un desacuerdo insalvable sobre las vías para el combate a la corrupción -en concreto, la propuesta por Sandu de un nuevo mecanismo para el nombramiento del fiscal general- el pretexto aducido por Dodon y los socialistas para finiquitar el experimento de la coalición con el bloque ACUM. La antigua república soviética de Moldova, encajonada entre Ucrania y Rumanía (cuyo idioma emplea la mayoría de la población) y territorialmente fracturada por la secesión de la rusófila República del Transdniéster (no reconocida pero soberana de facto desde la guerra civil de 1992), es el país menos desarrollado de Europa y participa en la Política Europea de Vecindad de la UE a través de un Acuerdo de Asociación, en vigor desde 2016, y el Partenariado Oriental. Sin embargo, las autoridades de Chisinau aún no han presentado la solicitud formal del ingreso en Bruselas, que periódicamente reclama más brío reformista en los terrenos de la lucha antifraude y la independencia del sistema judicial. En 2019 Sandu se presentaba como una opción puente entre dos bandos nacionales antagónicos que deseaba limar aristas, destensar la política moldava y ayudar a construir un Estado \"funcional\". Después de la \"traicionera\" defenestración de su Gabinete, su distanciamiento del socialismo prorruso, primera fuerza parlamentaria y en la que, afirma, \"ya no se puede confiar\", es mucho mayor.Como primera ministra, Sandu apostó por el pragmatismo en los tratos con Rusia, que había impuesto a la vulnerable Moldova penalizaciones comerciales y energéticas en castigo por su orientación estratégica proeuropea. Ahora, como presidenta, seguirá involucrada en la formulación de la política exterior, ya que las únicas atribuciones significativas de su cargo, de tipo ceremonial, se enmarcan precisamente en las relaciones internacionales. La mandataria electa ya ha recalcado que \"la UE es nuestro camino\", pero sostiene la necesidad de tener buenas relaciones con Rusia, a la que reclama de paso la retirada de sus 1.500 soldados acantonados en el Transdniéster. Su objetivo, en síntesis, es el \"diálogo pragmático con todos los países\". El 23 de diciembre Sandu relevará a Dodon en la Presidencia y tendrá que cohabitar con el Gobierno minoritario y \"tecnocrático\" del PSRM, el cual ha enfriado la cooperación con la UE y el FMI, y viene explorando la asistencia financiera y las inversiones alternativas de Rusia y Turquía mientras el país sufre el desplome económico derivado de la COVID-19.(Texto actualizado hasta diciembre 2020)'"
            ]
          },
          "metadata": {
            "tags": []
          },
          "execution_count": 8
        }
      ]
    },
    {
      "cell_type": "code",
      "metadata": {
        "colab": {
          "base_uri": "https://localhost:8080/",
          "height": 120
        },
        "id": "qUN_qRJbzEWb",
        "outputId": "96cbea7e-9908-43f4-f3f4-c6dfc6f34e49"
      },
      "source": [
        "biografia = index[1]\r\n",
        "biografia.text.replace(\"\\n\", \"\")"
      ],
      "execution_count": 9,
      "outputs": [
        {
          "output_type": "execute_result",
          "data": {
            "application/vnd.google.colaboratory.intrinsic+json": {
              "type": "string"
            },
            "text/plain": [
              "'1. Una economista liberal decepcionada por la corrupción de la clase política moldava2. Candidata presidencial en 2016 enfrentada al socialista Dodon y primera ministra en 2019 en coalición con su partido3. Fallido experimento de gobierno revancha en las presidenciales de 20201. Una economista liberal decepcionada por la corrupción de la clase política moldava    Maia Sandu vivió el proceso histórico (1990-1992) de la soberanía y la independencia nacionales de su país a partir de la URSS siendo estudiante de Administración en la Academia de Estudios Económicos de Moldova (ASEM), centro universitario público de Chisinau. En 1994, con 22 años, entró a trabajar como consultora y funcionaria en el Ministerio de Economía, si bien continuó con su formación en las aulas de la Academia de Administración Pública (APA), que le otorgó un máster en Relaciones Internacionales en 1998. En la década siguiente, Sandu ejerció sucesivamente de economista en las oficinas del Banco Mundial en Moldova, directora general de Políticas Macroeconómicas y Programas de Desarrollo en el Ministerio de Economía, coordinadora de programas para el Programa de las Naciones Unidas para el Desarrollo (PNUD) y consultora del Gobierno para la reforma de la administración pública. En 2009 marchó a Estados Unidos con la idea de sacarse un máster en Administración Pública en la John F. Kennedy School of Government de Harvard y en 2010, una vez obtenido el título, volvió a trabajar para el Banco Mundial en calidad de consejera de las direcciones ejecutivas en la sede central del organismo en Washington, DC.En julio de 2012 Sandu retornó a Moldova para asumir su primer cometido gubernamental, el de ministra de Educación en el segundo Gobierno de coalición del primer ministro Vlad Filat, jefe del centroderechista Partido Liberal Democrático de Moldova (PLDM). La economista se dio de alta en el PLDM, formación que desde las elecciones legislativas de 2010 llevaba la voz cantante en el arco de partidos proeuropeos, si bien la primera fuerza del Parlamento en aquel momento era el prorruso Partido de los Comunistas de la República de Moldova (PCRM), liderado por el anterior presidente de la República Vladimir Voronin. El PLDM conducía en aquellos momentos la Alianza por la Integración Europea, de la que también formaban parte el Partido Democrático de Moldova (PDM) y el Partido Liberal (PL).Sandu retuvo su cartera ministerial en los dos gobiernos de coalición que siguieron a la caída del Gabinete Filat -al perder una moción de censura de los comunistas como consecuencia de la ruptura de la Alianza por la Integración Europea- en marzo de 2013, el de Iurie Leanca y, desde febrero de 2015, el de Chiril Gaburici, personalidades ambas del PLDM. Prolongando la secuencia de inestabilidad gubernamental, el primer ministro Gaburici dimitió en junio de 2015 y el 30 de julio el también liberaldemócrata Valeriu Strelet alineó un ejecutivo tripartito que ya no contó con Sandu. De hecho, el PLDM ofreció a Sandu ser la candidata del oficialismo para suceder a Gaburici, reemplazado en funciones por Natalia Gherman, pero ella estableció unas condiciones que no fueron admitidas por el líder del partido, Filat.En diciembre de 2015, hastiada del tropel de turbulencias políticas y escándalos de corrupción protagonizados por las agrupaciones que se llamaban a sí mismas anticomunistas y proeuropeas, y en particular impactada por la caída en desgracia de su superior partidario, el anterior primer ministro Filat, despojado de la inmunidad parlamentaria, detenido y llevado a juicio bajo la acusación de orquestar un gigantesco desfalco bancario, la ex ministra rompió con el PLDM y puso en marcha una plataforma personal de signo opositor que el 15 de mayo de 2016, funcionando el Gobierno del primer ministro Pavel Filip, al frente de una nueva coalición PLDM-PDM-PL, se organizó como Partido de Acción y Solidaridad (PAS). Con Sandu de presidenta e Igor Grosu de secretario general, el PAS se presentó a la opinión pública como un partido de centro-derecha identificado con el liberalismo social y de firmes convicciones europeístas. No obstante su definición liberal, Sandu solicitó y obtuvo la incorporación del PAS al Partido Popular Europeo (PPE). El común discurso del rechazo tajante a la corrupción que desacreditaba a las élites políticas moldavas y manchaba la reputación internacional del país aproximó a Sandu a la Plataforma Dignidad y Verdad (PPDA o DA). Este partido acababa de ser fundado por el activista y antiguo fiscal Andrei Nastase al calor de las multitudinarias manifestaciones cívicas, las mayores desde la independencia en 1991, en protesta por el deterioro de las condiciones económicas, la influencia desmesurada de los llamados \"oligarcas\", magnates de la empresa y las finanzas enriquecidos turbiamente, y el latrocinio de capitales por conocidos rostros de la política.2. Candidata presidencial en 2016 enfrentada al socialista Dodon y primera ministra en 2019 en coalición con su partido    Sandu se inscribió para las elecciones presidenciales de octubre de 2016, de las que debía salir el sucesor del jefe del Estado desde 2012, el independiente Nicolae Timofti. La liberal tenía varios contrincantes, el más potente de los cuales era el izquierdista Igor Dodon, líder del Partido de los Socialistas de la República de Moldova (PSRM), ganador con mayoría simple de las votaciones legislativas de 2014. Arguyendo la necesidad de preservar la neutralidad del país en política exterior, Dodon, anterior militante comunista, se mostraba dispuesto a frenar la orientación proeuropea de Moldova en favor de un acercamiento a Rusia, de cuyo presidente, Vladímir Putin, era admirador confeso. Aunque ideológicamente contrapuestos, uno y otra coincidían en prometer el fortalecimiento de las instituciones republicanas, el combate a la corrupción, la investigación a fondo, cayera quien cayera, del saqueo en 2014 de casi 1.000 millones de dólares de fondos bancarios puestos bajo la supervisión del Estado, el aumento de las partidas del gasto social y la reversión de la crisis económica que azotaba al país menos desarrollado de Europa. Ciertamente, ambos se situaban en la oposición al Gobierno Filip. Sin embargo, Sandu y Dodon libraron una campaña áspera, en la que se lanzaron mutuamente trapos sucios sobre presuntas venalidades y connivencias furtivas con potencias extranjeras, Rusia en el caso de él, Estados Unidos y Rumania en el caso de ella.Las perspectivas de Sandu parecieron cobrar brío en las dos últimas semanas de la campaña al anunciar dos candidatos relevantes, Andrei Nastase, el líder del DA, y Marian Lupu, el jefe nominal del PDM y supuesto \"títere\" del oligarca Vlad Plahotniuc, su retirada de la competición y su apoyo a la ex ministra de Educación, que ya disponía de los respaldos del Partido Liberal Reformador (PLR), el Partido Verde Ecologista (PVE) y su anterior colectividad, el PLDM, ahora conducido por Viorel Cibotaru, quien proclamaba una ruptura total con la era Filat. Ahora bien, los avales del PDM y el PLDM, dos partidos en la picota a causa de la corrupción, tanto podían aportar a Sandu votantes como retraerlos.Sin embargo, el 30 de octubre de 2016 Dodon se puso en cabeza con un potente 48% de los votos; por poco, el socialista no se proclamó presidente en la primera vuelta. Sandu, receptora del 38,7% de los sufragios, pasó a disputar con él el balotaje. Eliminados quedaron Dumitru Ciubasenco de Nuestro Partido (PN, izquierda populista prorrusa), el ex primer ministro Iurie Leanca por el Partido Popular Europeo de Moldova (PPEM) y Mihai Ghimpu del PL, único de los tres partidos del Gobierno que concurría con un candidato. La segunda vuelta tuvo lugar el 13 de noviembre y para Sandu se saldó con la derrota definitiva con el 47,9% de los votos.Elecciones legislativas y crisis constitucionalEl 16 de diciembre de 2018 Sandu y Nastase lanzaron el bloque electoral y \"movimiento de resistencia\" Ahora (ACUM) entre el DA y el PAS. Era su respuesta a la invalidación judicial del triunfo de Nastase en las elecciones a alcalde de Chisinau, pero también su apuesta para enfrentarse al PSRM, presidido por la ex primera ministra Zinaida Greceanîi, y al PDM del polémico Vladimir Plahotniuc en las elecciones legislativas del 24 de febrero de 2019. Al bloque ACUM se adhirieron el PLDM de Deliu Tudor, cuyas perspectivas electorales eran mínimas, y el nuevo Partido de Unidad Nacional (PUN) de Anatol Salaru.En los comicios, el ACUM DA-PAS fue la segunda lista más votada con el 26,8% de los votos, a la zaga del recrecido PSRM de Greceanîi y Dodon, pero, debido a las particularidades del sistema electoral, recibió menos escaños, 26, que el PDM, el cual también subió con fuerza. Tanto las ganancias obtenidas por socialistas y demócratas como el vigoroso debut del tándem Sandu-Nastase se nutrían de los hundimientos totales del viejo PCRM y del PL, amén de la virtual desaparición del PLDM, reducido a la condición de mera muletilla del PAS. Para Sandu, por de pronto, las elecciones supusieron su regreso al Parlamento, del que ya había sido miembro brevemente, con el PLDM, entre las elecciones de noviembre de 2014 y su confirmación como ministra de Educación en el Gobierno Gaburici en febrero de 2015.Las conversaciones para la formación del nuevo Ejecutivo no tardaron en quedar empantanadas por las diferencias aparentemente insolubles entre tres partidos que durante la campaña electoral habían dado cancha a su mutua hostilidad. La postura más intransigente recayó en Sandu, quien rechazó sendas ofertas de coalición del PSRM y el PDM. De acuerdo con la Constitución, si el Parlamento no era capaz de materializar un gobierno en los tres meses transcurridos desde la certificación de los resultados electorales, el presidente de la República estaba facultado para declarar fallida la legislatura y convocar nuevas elecciones. Puesto que la certificación de las elecciones de febrero la había hecho el Tribunal Constitucional el 9 de marzo, se entendía que la fecha límite para instalar el nuevo Gabinete era el 9 de junio.Sin embargo, dos jornadas antes, el 7 de junio, el Tribunal Constitucional, en un auto sorpresa, estableció que el plazo legal de los 90 días expiraba aquel mismo día y, por lo tanto, daba al presidente la orden de proceder con la convocatoria electoral. Dodon, de hecho, ya había avisado semanas atrás que si los partidos no se ponían de acuerdo para alinear un Gabinete de mayoría, él no tendría más remedio que disolver el Parlamento y llamar a elecciones.El 8 de junio llegó un segundo sobresalto: el PSRM y el ACUM comunicaron que habían alcanzado un acuerdo exprés para instalar un Gobierno de coalición fundado en una mayoría absoluta de 61 diputados y con Sandu de primera ministra. De inmediato, el Tribunal Constitucional declaró ilegal la designación de Sandu, pero Dodon ignoró a la corte y emitió el nombramiento oficial del Gobierno, que se consideró instalado ese mismo día. A Sandu la flanqueaban dos viceprimeros ministros, su aliado Nastase y Vasilii Sova por el PSRM. De la decena de ministros, dos correspondían al PAS, incluido el de Finanzas, dos al DA, incluido el de Interior (el propio Nastase) y uno, el de Defensa, al PSRM, quedando las restantes cinco carteras, entre ellas la de Exteriores, para personas independientes.El conflicto entre instituciones y partidos devino una crisis constitucional en toda regla. El 9 de junio, mientras el PDM de Plahotniuc y Filip, en teoría primer ministro saliente, acusaban a sus adversarios de violar la ley flagrantemente y de detentar el poder de manera \"ilegítima\" con el único propósito de \"entregar\" el país a los rusos, y Dodon acusaba su vez al PDM de aferrarse al poder para seguir \"controlando\" las instituciones del Estado a su antojo, el Tribunal Constitucional declaró que el nombramiento del Gobierno Sandu era ilegal y dispuso la transferencia temporal de las funciones del presidente de la República al primer ministro Filip, el cual, al punto, firmó un decreto de disolución del Parlamento y de convocatoria de elecciones para el 6 de septiembre. La UE, inquieta por el curso de los acontecimientos en Moldova, miembro del Partenariado Oriental y con la que tenía suscrito un Acuerdo de Asociación, envió a Chisinau un llamamiento a la \"calma\", la \"contención\" y el \"diálogo\" para solucionar la crisis.El 11 de junio Dodon contraatacó anulando el decreto de Filip, quien el día 14 desistió presentando la dimisión. El 15 de junio el grave forcejeo institucional llegó a su fin con la retractación del Tribunal Constitucional, que revocó su declaración de ilegalidad del día 9. Sandu, primera ministra ya a todos los efectos y sin lugar a dudas, salió a declarar que consideraba \"sincera\" la aceptación por el PDM de su \"derrota\", pero no dejó de reclamar la dimisión de los magistrados del Tribunal Constitucional. Asimismo, reconoció que su sorpresivo entendimiento con el prorruso PSRM no era una \"alianza natural\", pero que en estos momentos lo más importante era dotar a la inestable Moldova de un Gobierno sólido y dispuesto a dar pasos decisivos para erradicar la corrupción en las altas instancias y acometer las reformas estructurales que fueran necesarias. 3. Fallido experimento de gobierno y revancha en las presidenciales de 2020    El nuevo Gobierno Sandu se apresuró a reformular la política exterior con un enfoque más pragmático de las espinosas relaciones ruso-moldavas. Con Rusia, la primera ministra deseaba abordar la cancelación de las restricciones comerciales, impuestas por Moscú a Chisinau en castigo por su orientación estratégica prooccidental, y la garantía de los vitales suministros energéticos. También, contemplaba el escenario, altamente improbable en las actuales circunstancias, de la retirada de las tropas rusas de la región secesionista rusófona del Transdniéster, 1.500 soldados estacionados allí desde la guerra civil de 1992 y con una doble misión oficial, custodiar depósitos de armas y realizar labores de interposición y pacificación. Sandu planteaba al Gobierno ruso una normalización de las relaciones bilaterales, pero sin sacrificar el curso proeuropeo de Moldova. Además, descartaba una federalización del país, punto que para la autoproclamada República Moldava Pridnestroviana constituía la mínima base de negociación de un arreglo de este conflicto congelado del espacio postsoviético. El Gobierno transnistrio de Tiráspol ejercía una autoridad soberana de facto sobre la estrecha franja de territorio de poco más de 4.000 km2 que delimitaban el río Dniéster al oeste y la frontera ucraniana al este.Como paso preliminar, Sandu anunció el levantamiento de la prohibición impuesta en marzo de 2017 por Pavel Filip de los viajes oficiales a Rusia por miembros del Gobierno moldavo. El último desplazamiento de estas características había sido el realizado en 2012 por el entonces primer ministro, Vlad Filat. Sandu tenía prisa por reactivar los contactos entre gobiernos y sopesaba el viaje personal a Moscú para conseguir la despenalización de las exportaciones moldavas, un contrato de compra de gas ruso a precios asequibles y, si era posible, un calendario para la repatriación de tropas del Transdniéster, pero antes visitó Bucarest, Bruselas y Kíev. El 16 de julio, desde Berlín, la primera ministra informó que había recibido del Gobierno ruso una invitación para encontrarse con su homólogo Dmitri Medvédev en el Kremlin. El viaje oficial a Rusia quedó programado para septiembre, pero supuestos problemas de agenda obligaron a posponerlo sine díe. A cambio, Sandu se desplazó a Estados Unidos, donde no se reunió ni con el presidente Donald Trump ni con el secretario de Estado Mike Pompeo, sino únicamente con los dos congresistas al frente del Grupo de Apoyo Político del Congreso de Estados Unidos a la República de Moldova.Al final, los ambiciosos planes de Sandu con respecto a Rusia, y con ellos el resto de su programa político, iban a quedar frustrados porque su Gobierno se vino abajo en un tiempo récord. La voladura del acuerdo del 8 de junio entre el ACUM y el PRSM la activó este último, que, no debía olvidarse, era el primer partido del Parlamento.La falta de sintonía entre Sandu y Dodon, tan dispares ideológicamente, era un hecho evidente desde el principio, pero el primer encontronazo serio llegó a mediados de agosto de 2019, cuando la primera ministra preparó un decreto para que la celebración nacional cada 24 de agosto de la victoria del Ejército Rojo sobre Alemania en 1944, el denominado Día de la Liberación de la Ocupación Fascista, se asimilara al Día Europeo de Conmemoración de las Víctimas del Estalinismo y el Nazismo, observado en la UE el 23 de agosto. De inmediato, el presidente rechazó la propuesta de la primera ministra y dejó claro que la festividad del 24 de agosto, en la que el jefe del Estado adquiría un protagonismo especial, tendría lugar con el formato habitual.Llegado el otoño, las fricciones se agravaron debido a otra iniciativa unilateral de Sandu, quien puso sobre la mesa una modificación de los trámites para el nombramiento del titular de la Fiscalía General de la República. A fin de cubrir la vacancia abierta por el final del mandato de Eduard Harunjen, para el que el Ministerio de Justicia no conseguía encontrar sucesor, Sandu propuso que el alto funcionario fuera seleccionado de entre un ramillete de candidatos propuestos por ella misma. Se trataba, defendía la gobernante, de una reforma exprés imprescindible, en línea con lo demandado desde la UE, a fin de asegurar que el fiscal general fuera un profesional \"independiente e insobornable\" y que el Ministerio Público pudiera ejercer sus funciones en la lucha anticorrupción con la mayor eficacia.El PSRM exigió la retirada de la reforma \"inconstitucional\", pero Sandu se reafirmó. La respuesta del partido que en nombre de Dodon mandaba Zinaida Greceanîi, a la sazón presidenta del Parlamento, fue expeditiva: declarar rota la coalición con el ACUM y lanzar una moción de censura contra el Gobierno del que era miembro con el único objeto de defenestrar a Sandu. Desde la oposición, el PDM, ahora liderado por Pavel Filip en lugar de Vladimir Plahotniuc (prófugo de la justicia, exiliado en Turquía y al que Sandu quería ver rindiendo cuentas penales en Moldova), anunció su respaldo al PSRM. La censura parlamentaria salió adelante el 12 de noviembre con el resultado cantado de 63 votos a favor. El Gobierno Sandu había sucumbido con tan solo cinco meses de ejercicio. Sin perder un minuto, Dodon nominó primer ministro a Ion Chicu, ex ministro de Finanzas no afiliado pero muy cercano a los socialistas, tratándose de hecho de un asesor adjunto a la Presidencia. Al día siguiente echó a andar el nuevo Gabinete minoritario de Chicu, nutrido con un par de miembros del PSRM y fundamentalmente por tecnócratas que sobre el papel eran independientes, aunque en su mayor parte se trataba de personas próximas al grupo de Greceanîi y el entorno presidencial. La Comisión Europea valoró que el súbito cambio de guardia en Moldova enviaba \"señales preocupantes para el proceso de reformas en el país\". Sandu no se mordió la lengua y calificó la moción de censura del PSRM de \"traición\" a un equipo de Gobierno dedicado a \"defender los intereses del pueblo\", traición que había triunfado con la ayuda de \"algunos ladrones del Parlamento\" que intentaban \"resistirse a las reformas en Moldavia\". En cuanto al previsto viaje oficial de Sandu a Moscú, fue Chicu el que lo realizó en el mes de noviembre, dejando patente las simpatías prorrusas del nuevo Ejecutivo. Por lo demás, el Gobierno Chicu iba a quedar reforzado el 16 de marzo de 2020 con la incorporación de ministros del PDM, pero este partido regresaría a la oposición el 7 de noviembre siguiente. Arrojada a la oposición, la líder del PAS se dispuso a preparar su contraataque político, que tendría lugar pronto, en las elecciones presidenciales previstas para dentro exactamente de un año. El 18 de julio de 2020, con el país sumido en la pandemia COVID-19 y en proceso de dejar atrás las restricciones más severas de la cuarentena nacional para contener el coronavirus (desde el 15 de mayo regía la situación de emergencia de salud pública, en lugar del estado de emergencia declarado el 17 de marzo), Sandu lanzó su candidatura presidencial. La misma recabó la adhesión de Pro Moldova, el nuevo partido liberal europeísta fundado por el ex presidente del Parlamento Andrian Candu, escindido del PDM, pero no de la DA de Andrei Năstase, el anterior aliado del ya caducado ACUM, quien optó por concurrir por su cuenta. Los otros contrincantes de Sandu iban a ser: Dodon, aspirante a la reelección por el PSRM; Violeta Ivanov por el Movimiento Socio-Político Republicano Igualdad, más conocido como el Partido Sor; Renato Usatîi por Nuestro Partido (PN); Octavian Ticu por el Partido de Unidad Nacional (PUN); Tudor Deliu por el hoy residual PLDM; y Dorin Chirtoaca por el Movimiento Político Unión (MPU). Durante la campaña electoral, la ex primera ministra acusó reiteradamente a su adversario socialista de socavar los esfuerzos por reformar el sistema de justicia criminal, sin lo cual Moldova no podría culminar su integración en la UE. También, reclamó un diálogo serio para solucionar definitivamente el conflicto transnistrio, lo que pasaba por la retirada de los 1.500 soldados rusos y su sustitución por una misión de observadores civiles, multinacional y con mandato de la OSCE. Dodon, apoyado explícitamente por el Kremlin, tachó a su oponente proeuropea de \"histérica\" y afirmó que su visión de la política exterior moldava era mucho más \"equilibrada\", al abogar por la \"amistad\" simultánea con la UE, Rusia, Rumanía y Ucrania. Eso sí, las actuales necesidades financieras de Moldova, señaló el presidente, tendrían una mejor satisfacción si se recurría a los préstamos de Rusia.  El 1 de noviembre de 2020 Sandu se puso en cabeza con el 36,2% de los votos y pasó a disputar la segunda vuelta con Dodon, receptor del 32,6%. En el balotaje del 15 de noviembre la opositora se alzó con la victoria con el 57,7% de los sufragios. La presidenta electa recibió las felicitaciones de los líderes de la UE y de Ucrania, así como del presidente Putin. En sus primeras palabras a los medios, Sandu declaró que su presidencia permitiría \"asegurar un equilibrio real\" en la política exterior de Moldavia únicamente \"guiado por los intereses nacionales\", lo que pasaría por mantener un \"diálogo pragmático con todos los países, incluidos Rumanía, Ucrania, la UE, Rusia y Estados Unidos\".Según su currículum oficial, Maia Sandu, además de su moldavo (rumano) nativo, del inglés aprendido en su juventud por motivos laborales y académicos, y del ruso, idioma que conoce la mayoría de la población moldava (si bien es lengua de uso diario solo para una minoría, fundamentalmente los rusos étnicos, concentrados en la región del Transdniéster), se maneja también en español. Como muchos ciudadanos de su país, la primera ministra posee la doble nacionalidad moldava y rumana.(Cobertura informativa hasta 1/12/2020)'"
            ]
          },
          "metadata": {
            "tags": []
          },
          "execution_count": 9
        }
      ]
    },
    {
      "cell_type": "code",
      "metadata": {
        "colab": {
          "base_uri": "https://localhost:8080/",
          "height": 35
        },
        "id": "FnIpRCfT26Ki",
        "outputId": "f5d79efe-14c5-4100-af37-98d411130f80"
      },
      "source": [
        "import re\r\n",
        "\r\n",
        "twitter = web_page.find(name=\"a\", attrs={\"href\": re.compile(\"https://twitter.com/+\")})\r\n",
        "twitter[\"href\"]\r\n"
      ],
      "execution_count": 10,
      "outputs": [
        {
          "output_type": "execute_result",
          "data": {
            "application/vnd.google.colaboratory.intrinsic+json": {
              "type": "string"
            },
            "text/plain": [
              "'https://twitter.com/sandumaiamd'"
            ]
          },
          "metadata": {
            "tags": []
          },
          "execution_count": 10
        }
      ]
    },
    {
      "cell_type": "code",
      "metadata": {
        "colab": {
          "base_uri": "https://localhost:8080/",
          "height": 35
        },
        "id": "s527tacp9-uT",
        "outputId": "3ba37ca5-8eef-4172-c957-8aedfdc68758"
      },
      "source": [
        "import re\r\n",
        "\r\n",
        "facebook = web_page.find(name=\"a\", attrs={\"href\": re.compile(\"https://www.facebook.com/+\")})\r\n",
        "facebook[\"href\"]"
      ],
      "execution_count": 11,
      "outputs": [
        {
          "output_type": "execute_result",
          "data": {
            "application/vnd.google.colaboratory.intrinsic+json": {
              "type": "string"
            },
            "text/plain": [
              "'https://www.facebook.com/maia.sandu/'"
            ]
          },
          "metadata": {
            "tags": []
          },
          "execution_count": 11
        }
      ]
    },
    {
      "cell_type": "code",
      "metadata": {
        "colab": {
          "base_uri": "https://localhost:8080/",
          "height": 35
        },
        "id": "ULcSR_kk_HHF",
        "outputId": "7c7b3a86-e9f2-4877-a488-9280c7df391d"
      },
      "source": [
        "import re\r\n",
        "\r\n",
        "youtube = web_page.find(name=\"a\", attrs={\"href\": re.compile(\"https://www.youtube.com/+\")})\r\n",
        "youtube[\"href\"]"
      ],
      "execution_count": 12,
      "outputs": [
        {
          "output_type": "execute_result",
          "data": {
            "application/vnd.google.colaboratory.intrinsic+json": {
              "type": "string"
            },
            "text/plain": [
              "'https://www.youtube.com/results?search_query=maia+sandu'"
            ]
          },
          "metadata": {
            "tags": []
          },
          "execution_count": 12
        }
      ]
    },
    {
      "cell_type": "code",
      "metadata": {
        "colab": {
          "base_uri": "https://localhost:8080/",
          "height": 35
        },
        "id": "Yk3opsM9_Zya",
        "outputId": "246604e4-6ec0-4145-80a6-c7f085628fb4"
      },
      "source": [
        "import re\r\n",
        "\r\n",
        "instagram = web_page.find(name=\"a\", attrs={\"href\": re.compile(\"https://www.instagram.com/+\")})\r\n",
        "instagram[\"href\"]"
      ],
      "execution_count": 13,
      "outputs": [
        {
          "output_type": "execute_result",
          "data": {
            "application/vnd.google.colaboratory.intrinsic+json": {
              "type": "string"
            },
            "text/plain": [
              "'https://www.instagram.com/maia.sandu/'"
            ]
          },
          "metadata": {
            "tags": []
          },
          "execution_count": 13
        }
      ]
    },
    {
      "cell_type": "code",
      "metadata": {
        "colab": {
          "base_uri": "https://localhost:8080/",
          "height": 97
        },
        "id": "2zRhABQ-FF-B",
        "outputId": "229bdc0b-398d-47a1-88da-bffb7d12bb49"
      },
      "source": [
        "#filas = []    \r\n",
        "#filas.append((presentacion.text.replace(\"\\n\", \"\"), biografia.text.replace(\"\\n\", \"\"), twitter[\"href\"],facebook[\"href\"],youtube[\"href\"],instagram[\"href\"]))\r\n",
        "\r\n",
        "#columnas = []\r\n",
        "#columnas.append((\"index\",\"presentacion\", \"biografia\", \"twitter\",\"facebook\",\"youtube\",\"instagram\"))\r\n",
        "\r\n",
        "#df = pd.DataFrame(filas)\r\n",
        "\r\n",
        "df = pd.DataFrame({'presentacion': [presentacion.text.replace(\"\\n\", \"\")], 'biografia': [biografia.text.replace(\"\\n\", \"\")], 'twitter': [twitter[\"href\"]], 'facebook': [facebook[\"href\"]], 'youtube': [youtube[\"href\"]], 'instagram': [instagram[\"href\"]] })  \r\n",
        "\r\n",
        "df"
      ],
      "execution_count": 26,
      "outputs": [
        {
          "output_type": "execute_result",
          "data": {
            "text/html": [
              "<div>\n",
              "<style scoped>\n",
              "    .dataframe tbody tr th:only-of-type {\n",
              "        vertical-align: middle;\n",
              "    }\n",
              "\n",
              "    .dataframe tbody tr th {\n",
              "        vertical-align: top;\n",
              "    }\n",
              "\n",
              "    .dataframe thead th {\n",
              "        text-align: right;\n",
              "    }\n",
              "</style>\n",
              "<table border=\"1\" class=\"dataframe\">\n",
              "  <thead>\n",
              "    <tr style=\"text-align: right;\">\n",
              "      <th></th>\n",
              "      <th>presentacion</th>\n",
              "      <th>biografia</th>\n",
              "      <th>twitter</th>\n",
              "      <th>facebook</th>\n",
              "      <th>youtube</th>\n",
              "      <th>instagram</th>\n",
              "    </tr>\n",
              "  </thead>\n",
              "  <tbody>\n",
              "    <tr>\n",
              "      <th>0</th>\n",
              "      <td>En 2016 en Moldova, Maia Sandu, candidata cent...</td>\n",
              "      <td>1. Una economista liberal decepcionada por la ...</td>\n",
              "      <td>https://twitter.com/sandumaiamd</td>\n",
              "      <td>https://www.facebook.com/maia.sandu/</td>\n",
              "      <td>https://www.youtube.com/results?search_query=m...</td>\n",
              "      <td>https://www.instagram.com/maia.sandu/</td>\n",
              "    </tr>\n",
              "  </tbody>\n",
              "</table>\n",
              "</div>"
            ],
            "text/plain": [
              "                                        presentacion  ...                              instagram\n",
              "0  En 2016 en Moldova, Maia Sandu, candidata cent...  ...  https://www.instagram.com/maia.sandu/\n",
              "\n",
              "[1 rows x 6 columns]"
            ]
          },
          "metadata": {
            "tags": []
          },
          "execution_count": 26
        }
      ]
    },
    {
      "cell_type": "markdown",
      "metadata": {
        "id": "iJmQOc4CLqCV"
      },
      "source": [
        "###Pasando a csv"
      ]
    },
    {
      "cell_type": "code",
      "metadata": {
        "id": "swnLeel0LI7Z"
      },
      "source": [
        "df.to_csv('cidob.csv',index=False)"
      ],
      "execution_count": 28,
      "outputs": []
    },
    {
      "cell_type": "code",
      "metadata": {
        "colab": {
          "base_uri": "https://localhost:8080/",
          "height": 97
        },
        "id": "8UUqB-SxLjCU",
        "outputId": "dda2f7db-eb81-450b-87e7-0e3bcf2247c4"
      },
      "source": [
        "cidob = pd.read_csv('cidob.csv')\r\n",
        "cidob"
      ],
      "execution_count": 32,
      "outputs": [
        {
          "output_type": "execute_result",
          "data": {
            "text/html": [
              "<div>\n",
              "<style scoped>\n",
              "    .dataframe tbody tr th:only-of-type {\n",
              "        vertical-align: middle;\n",
              "    }\n",
              "\n",
              "    .dataframe tbody tr th {\n",
              "        vertical-align: top;\n",
              "    }\n",
              "\n",
              "    .dataframe thead th {\n",
              "        text-align: right;\n",
              "    }\n",
              "</style>\n",
              "<table border=\"1\" class=\"dataframe\">\n",
              "  <thead>\n",
              "    <tr style=\"text-align: right;\">\n",
              "      <th></th>\n",
              "      <th>presentacion</th>\n",
              "      <th>biografia</th>\n",
              "      <th>twitter</th>\n",
              "      <th>facebook</th>\n",
              "      <th>youtube</th>\n",
              "      <th>instagram</th>\n",
              "    </tr>\n",
              "  </thead>\n",
              "  <tbody>\n",
              "    <tr>\n",
              "      <th>0</th>\n",
              "      <td>En 2016 en Moldova, Maia Sandu, candidata cent...</td>\n",
              "      <td>1. Una economista liberal decepcionada por la ...</td>\n",
              "      <td>https://twitter.com/sandumaiamd</td>\n",
              "      <td>https://www.facebook.com/maia.sandu/</td>\n",
              "      <td>https://www.youtube.com/results?search_query=m...</td>\n",
              "      <td>https://www.instagram.com/maia.sandu/</td>\n",
              "    </tr>\n",
              "  </tbody>\n",
              "</table>\n",
              "</div>"
            ],
            "text/plain": [
              "                                        presentacion  ...                              instagram\n",
              "0  En 2016 en Moldova, Maia Sandu, candidata cent...  ...  https://www.instagram.com/maia.sandu/\n",
              "\n",
              "[1 rows x 6 columns]"
            ]
          },
          "metadata": {
            "tags": []
          },
          "execution_count": 32
        }
      ]
    }
  ]
}